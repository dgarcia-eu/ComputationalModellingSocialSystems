{
 "cells": [
  {
   "cell_type": "markdown",
   "id": "dcdb0b6e",
   "metadata": {},
   "source": [
    "# Mesa scale-free networks example - Barabási-Albert model\n",
    "\n",
    "## Description\n",
    "\n",
    "Small-world networks accord with some empirically observed properties of social networks. However, unlike small-world networks, many real-world networks have been observed to have scale-free properties such that some small number of individuals are very highly connected, while most are not.\n",
    "\n",
    "Systems as diverse as genetic networks or the World Wide Web are best described as networks with complex topology.\n",
    "A common property of many large networks is that the vertex connectivities follow a scale-free power-law distribution.\n",
    "\n",
    "This feature was found to be a consequence of two generic mechanisms: \n",
    "1. Networks expand continuously by the addition of new vertices\n",
    "2. New vertices attach preferentially to sites that are already well connected.\n",
    "\n",
    "The development of large networks is governed by robust self-organizing phenomena that go beyond the particulars of the individual systems.\n",
    "\n",
    "## Model\n",
    "\n",
    "We want to show that, independent of the system and the identity of its constituents, the discribution degree  P(k) - probability that a vertex in the network interacts with k other vertices decays as a power law (remember the binomial degree distribution)\n",
    "This result indicates that large networks self-organize into a scale-free state, a feature unpredicted by all existing random network models.\n",
    "\n",
    "A common feature of the Erno-Renyi and Watts-Strogatz models is that the probability of finding a highly connected vertex (that is, a large k) decreases exponentially with k; thus, vertices with large connectivity are practically absent.\n",
    "\n",
    "In contrast, the power-law tail characterizing P(k) for the networks studied indicates that highly connected (large k) vertices have a large chance of occurring, dominating the connectivity.\n",
    "\n",
    "We use two key features of real-world networks that are responsible for the power-law scaling observed\n",
    "1. Growth\n",
    "2. Preferential attachment\n",
    "\n",
    "### Growth\n",
    "\n",
    "In contrast, most real world networks are open and they form by the continuous addition of new vertices to the system, thus the number of vertices N increases throughout the lifetime of the network. For example, the actor network grows by the addition of new actors to the system, the WWW grows exponentially over time by the addition of new Web pages (8), and the research literature constantly grows by the publication of new papers.\n",
    "Common feature of these systems is that the network continuously expands by the addition of new vertices that are connected to the vertices already present in the system.\n",
    "\n",
    "### Preferential attachment\n",
    "\n",
    "A new actor is most likely to be cast in a supporting role with more established and better-known ac- tors. Consequently, the probability that a new actor will be cast with an established one is much higher than that the new actor will be cast with other less-known actors. Similarly, a newly created Web page will be more likely to include links to well-known popular doc- uments with already-high connectivity, and a new manuscript is more likely to cite a well- known and thus much-cited paper than its less-cited and consequently less-known peer.\n",
    "\n",
    "These examples indicate that the probability with which a new vertex connects to the existing vertices is not uniform; there is a higher probability that it will be linked to a vertex that already has a large number of connections.\n",
    "\n",
    "# Barabási–Albert model algorithm\n",
    "\n",
    "We now look at networks generated according to the Barabási–Albert preferential-attachment model (Barabási and Albert, 1999).\n",
    "\n",
    "1. The algorithm begins with a connected network of m individual, starting with a small number (m0) of vertices.\n",
    "2. New nodes (up to N ) are added one at a time. To incorporate the growing character of the network, at every time step we add a new vertex with m (<= m0) edges that link the new vertex to m different vertices already present in the system.\n",
    "3. Each new node connects to m existing nodes with probability directly proportional to the number of links the nodes already have. To incorporate preferential attachment, we assume that the probability M that a new vertex will be connected to vertex i depends on the connectivity k i of that vertex.\n",
    "4. Therefore, existing nodes with many links tend to receive more new attachments, e.g., new articles are proportionally more likely to cite ‘famous’ (already heavily cited) articles rather than newer articles with fewer citations.\n",
    "\n",
    "After t time steps, the model leads to a random network with t+m0 vertices and mt edges. This network evolves into a scale-invariant state with the probability that a vertex has k edges, following a power law with an exponent 2.9 +/- 0.1"
   ]
  },
  {
   "cell_type": "markdown",
   "id": "77fb52d4",
   "metadata": {},
   "source": [
    "# 1. Create the Basic Agent/Model"
   ]
  },
  {
   "cell_type": "markdown",
   "id": "fe8c5488",
   "metadata": {},
   "source": [
    "## Setting up the model\n",
    "\n",
    "To begin writing the model code, we start with two core classes: one for\n",
    "the overall model, the other for the agents. The model class holds the\n",
    "model-level attributes, manages the agents, and generally handles the\n",
    "global level of our model. Each instantiation of the model class will be\n",
    "a specific model run. Each model will contain multiple agents, all of\n",
    "which are instantiations of the agent class. Both the model and agent\n",
    "classes are child classes of Mesa’s generic ``Model`` and ``Agent``\n",
    "classes."
   ]
  },
  {
   "cell_type": "code",
   "execution_count": null,
   "id": "4f260dc7",
   "metadata": {},
   "outputs": [],
   "source": [
    "from mesa import Model, Agent\n",
    "from mesa.time import RandomActivation"
   ]
  },
  {
   "cell_type": "code",
   "execution_count": null,
   "id": "91002358",
   "metadata": {},
   "outputs": [],
   "source": [
    "class ScaleFreeAgent(Agent):\n",
    "    \n",
    "    def __init__(self, unique_id, model):\n",
    "        '''\n",
    "         Create a new bounded confidence agent.\n",
    "\n",
    "         Args:\n",
    "            unique_id: Unique identifier for the agent\n",
    "        '''\n",
    "        \n",
    "        super().__init__(unique_id, model)\n",
    "        \n",
    "    def step(self):\n",
    "        '''\n",
    "        Run one step of the agent.\n",
    "        '''\n",
    "        \n",
    "        pass\n"
   ]
  },
  {
   "cell_type": "markdown",
   "id": "0d9b0b50",
   "metadata": {},
   "source": [
    "## Adding space\n",
    "\n",
    "Let’s add a simple spatial element to our model by putting our agents on a grid.\n",
    "\n",
    "Mesa has a special type of a grid called NetworkGrid, where agents can be placed in custom network constalation you can create.\n",
    "\n",
    "`from mesa.space import NetworkGrid`\n",
    "\n",
    "We instantiate a network grid with networkx package, specifically `nx.barabasi_albert_graph`, which takes parameters n and m. \n",
    "It returns a random graph using Barabási–Albert preferential attachment. \n",
    "Under the hood, a graph of nodes is grown by attaching new nodes each with edges that are preferentially attached to existing nodes with high degree.\n",
    "\n",
    "**Note: If you are interested in using *Vertex copy model* from the lectures, please use `nx.gnc_graph(n)`, which obviously takes only the parameter n - total number of nodes in the model.**\n",
    "\n",
    "**Note: If you would like to update the network graph (for example in the step function of your Agent or Model - in your projects) you would have to use the methods `model.G.add_node()` and `model.G.add_edge()`, and make sure you apply the attachement algorithm manually yourself. But this reasoning is probably out of scope for this course, since most of the behavior of such interconnected nodes in the graph can be explored with a generated graph.**\n"
   ]
  },
  {
   "cell_type": "code",
   "execution_count": null,
   "id": "eff7c0b0",
   "metadata": {},
   "outputs": [],
   "source": [
    "import networkx as nx\n",
    "from mesa.space import NetworkGrid\n",
    "from mesa.datacollection import DataCollector\n",
    "\n",
    "class ScaleFreeModel(Model):\n",
    "    \n",
    "    def __init__(self, N, m):\n",
    "        '''\n",
    "        Create a new bounded confidence model.\n",
    "\n",
    "         Args:\n",
    "            N: how many agents the model contains\n",
    "        '''\n",
    "        \n",
    "        super().__init__()\n",
    "        \n",
    "        # 1 Initialization\n",
    "        self.num_agents = N\n",
    "        self.m = m\n",
    "        \n",
    "        self.G = nx.barabasi_albert_graph(self.num_agents, m)\n",
    "        self.grid = NetworkGrid(self.G)\n",
    "        \n",
    "        self.datacollector = DataCollector(\n",
    "            model_reporters={\"m\": \"m\"}\n",
    "        )\n",
    "        \n",
    "        # 2 Create agents\n",
    "        \n",
    "        for i in range(self.num_agents):\n",
    "            a = ScaleFreeAgent(i, self)\n",
    "            self.grid.place_agent(a, i)\n",
    "\n",
    "    def step(self):\n",
    "        '''\n",
    "        Run one step of the model. If All agents are happy, halt the model.\n",
    "        '''\n",
    "        \n",
    "        pass"
   ]
  },
  {
   "cell_type": "markdown",
   "id": "188592e3",
   "metadata": {},
   "source": [
    "# 2. Run the Agent/Model Basic"
   ]
  },
  {
   "cell_type": "markdown",
   "id": "07e6642a",
   "metadata": {},
   "source": [
    "### Running the model\n",
    "\n",
    "At this point, we have a model which runs. \n",
    "You can see for yourself with a few easy lines. If you’ve been working in an jupyter notebook session, you can create a model object directly. \n",
    "\n",
    "With that last piece in hand, it’s time for the first rudimentary run of the model.\n",
    "\n",
    "Now let’s create a model with 100 agents\n",
    "There is no need to run the model, since there are no steps to run."
   ]
  },
  {
   "cell_type": "code",
   "execution_count": null,
   "id": "2d01c71f",
   "metadata": {},
   "outputs": [],
   "source": [
    "model = ScaleFreeModel(100, 5)"
   ]
  },
  {
   "cell_type": "markdown",
   "id": "4cb4de10",
   "metadata": {},
   "source": [
    "# 3. Visualize the Network"
   ]
  },
  {
   "cell_type": "markdown",
   "id": "9bca42ce",
   "metadata": {},
   "source": [
    "Let's visualize a small Barabasi-Albert network graph with an average node degree parameter 5 (as used in the original paper - Barabási and Albert (1999)"
   ]
  },
  {
   "cell_type": "code",
   "execution_count": null,
   "id": "a46aaf2b",
   "metadata": {},
   "outputs": [],
   "source": [
    "from mesa.visualization.ModularVisualization import ModularServer\n",
    "from mesa.visualization.UserParam import UserSettableParameter\n",
    "from mesa.visualization.modules import ChartModule\n",
    "from mesa.visualization.modules import NetworkModule\n",
    "from mesa.visualization.modules import TextElement\n",
    "\n",
    "def network_portrayal(G):\n",
    "# The model ensures there is always 1 agent per node\n",
    "\n",
    "    betweenness_centrality = dict(nx.betweenness_centrality(G))\n",
    "    \n",
    "    def node_color(agent, n_id):\n",
    "        #return '#008000'\n",
    "        return \"rgba(\"+ str(betweenness_centrality[n_id] * 10 * 256) +\",128,128,1.0)\"\n",
    "    \n",
    "    def edge_color(agent1, agent2):\n",
    "        return '#e8e8e8'\n",
    "    \n",
    "    def edge_width(agent1, agent2):\n",
    "        return 2\n",
    "    \n",
    "    portrayal = dict()\n",
    "    \n",
    "    portrayal['nodes'] = [{'id': n_id,\n",
    "                        'agent_id': n['agent'][0].unique_id,\n",
    "                        'size': 2,\n",
    "                        'color': node_color(n['agent'][0], n_id),\n",
    "                        }\n",
    "                        for n_id, n in G.nodes(data=True)]\n",
    "    \n",
    "    portrayal['edges'] = [{'id': i,\n",
    "                        'source': source,\n",
    "                        'target': target,\n",
    "                        'color': edge_color(G.nodes[source]['agent'][0], G.nodes[target]['agent'][0]),\n",
    "                        'width': edge_width(G.nodes[source]['agent'][0], G.nodes[target]['agent'][0]),\n",
    "                        }\n",
    "                        for i, (source, target, _) in enumerate(G.edges(data=True))]\n",
    "    \n",
    "    return portrayal\n",
    "\n",
    "network = NetworkModule(network_portrayal, 800, 800, library='d3')\n",
    "chart = ChartModule([{'Label': 'Agent', 'Color': '#008000'}])\n",
    "\n",
    "class Density(TextElement):\n",
    "    def render(self, model):\n",
    "        Density = nx.density(model.G)\n",
    "        return 'Density: ' + str(Density)\n",
    "\n",
    "text = Density()\n",
    "\n",
    "model_params = {\n",
    "    'N': UserSettableParameter('slider', 'Number of agents', 10, 10, 200, 10,\n",
    "    description='Choose how many agents to include in the model'),\n",
    "    'm': UserSettableParameter('slider', 'Avg Node Degree', 3, 3, 5, 1,\n",
    "    description='Avg Node Degree'),\n",
    "    }\n",
    "\n",
    "server = ModularServer(ScaleFreeModel, [network, chart, text], 'Barabasi-Albert Model', model_params)"
   ]
  },
  {
   "cell_type": "markdown",
   "id": "3cc57f95",
   "metadata": {},
   "source": [
    "# 4. Run the Network Visualization\n",
    "\n",
    "NOTE: Runtime server error is normal and expected when running visualization code below. This visualization code was made for command line execution (not explicitly for Jupyter Notebooks), so we are **forcing** it's use.\n",
    "\n",
    "Just make sure to increment the port number counter each visualization run, to be able to use it."
   ]
  },
  {
   "cell_type": "code",
   "execution_count": null,
   "id": "4698fa83",
   "metadata": {},
   "outputs": [],
   "source": [
    "server.port = 8521 # The default 8521 - increase the counter as you run the visalizations\n",
    "#server.launch() # Uncomment to run the visalization"
   ]
  },
  {
   "cell_type": "markdown",
   "id": "b70c30e6",
   "metadata": {},
   "source": [
    "# 5. Collect data to Analyze the Network"
   ]
  },
  {
   "cell_type": "code",
   "execution_count": null,
   "id": "3691d9b7",
   "metadata": {},
   "outputs": [],
   "source": [
    "print('Number of agents {}'.format(model.G.number_of_nodes()))\n",
    "print('Number of edges {}'.format(model.G.number_of_edges()))\n",
    "print('Number of edges {}'.format(nx.info(model.G)))\n",
    "\n",
    "print('Density {}'.format(nx.density(model.G)))\n",
    "print('Number of selfloop edges {}'.format(nx.number_of_selfloops(model.G)))\n",
    "print('Frequency of each degree value {}'.format(nx.degree_histogram(model.G))) # The degree values are the index in the list."
   ]
  },
  {
   "cell_type": "markdown",
   "id": "9a69e585",
   "metadata": {},
   "source": [
    "# 6. Run the Agent/Model Analysis"
   ]
  },
  {
   "cell_type": "markdown",
   "id": "76f8a723",
   "metadata": {},
   "source": [
    "## Question 1\n",
    "\n",
    "1.1 Plot a graph of degrees for all nodes in the network model.\n",
    "\n",
    "1.2 As network grows with newly added nodes (old nodes having lower index values starting with zero, and newly added nodes having higher index values), explain the growth behavior that you observe on the plot?\n",
    "\n",
    "1.3 For the last-added node with an index value of 99 (in the example model with 100 nodes), retrieve its neighbours and plot a histogram of the degrees of those neighbours.\n",
    "\n",
    "1.4 To which neighbours and why did that last node attach itself to?"
   ]
  },
  {
   "cell_type": "code",
   "execution_count": null,
   "id": "05b3c485",
   "metadata": {},
   "outputs": [],
   "source": [
    "# Answer 1.1 [Your code here]\n",
    "\n",
    "degree_per_node = dict(model.G.degree(model.G))\n"
   ]
  },
  {
   "cell_type": "code",
   "execution_count": null,
   "id": "047618d8",
   "metadata": {},
   "outputs": [],
   "source": [
    "# Answer 1.3 [Your code here]\n",
    "\n",
    "last_node_index = model.G.number_of_nodes() - 1\n",
    "degree_per_neighbour = dict(model.G.degree(list(nx.neighbors(model.G, last_node_index))))\n"
   ]
  },
  {
   "cell_type": "markdown",
   "id": "bb176297",
   "metadata": {},
   "source": [
    "## Answer 1.2 and 1.4\n",
    "\n",
    "[Your text answer here]"
   ]
  },
  {
   "cell_type": "markdown",
   "id": "46ce5d36",
   "metadata": {},
   "source": [
    "## Question 2\n",
    "\n",
    "2.1 Plot the log log degree distribution for a network with 10k nodes (you need to create another nework model with increased size).\n",
    "\n",
    "2.2 Explain the graph?"
   ]
  },
  {
   "cell_type": "code",
   "execution_count": null,
   "id": "39503035",
   "metadata": {
    "scrolled": true
   },
   "outputs": [],
   "source": [
    "# Answer 2.1 [Your code here]\n"
   ]
  },
  {
   "cell_type": "markdown",
   "id": "bd252556",
   "metadata": {},
   "source": [
    "## Answer 2.2\n",
    "\n",
    "[Your text answer here]"
   ]
  },
  {
   "cell_type": "markdown",
   "id": "2db1c5a6",
   "metadata": {},
   "source": [
    "## Question 3\n",
    "\n",
    "3.1 Plot the log log degree distribution for the newtorks of a few different sizes (t=10k, t=100k, t=1Million).\n",
    "\n",
    "3.3 Explain how a stable degree distribution for these few networks regardless of their size relate to the scale-free behavior?"
   ]
  },
  {
   "cell_type": "code",
   "execution_count": null,
   "id": "6b7baf97",
   "metadata": {
    "scrolled": true
   },
   "outputs": [],
   "source": [
    "# Answer 3.1 [Your code here]\n"
   ]
  },
  {
   "cell_type": "markdown",
   "id": "81d7867b",
   "metadata": {},
   "source": [
    "## Answer 3.3\n",
    "\n",
    "[Your text answer here]"
   ]
  }
 ],
 "metadata": {
  "kernelspec": {
   "display_name": "Python 3 (ipykernel)",
   "language": "python",
   "name": "python3"
  },
  "language_info": {
   "codemirror_mode": {
    "name": "ipython",
    "version": 3
   },
   "file_extension": ".py",
   "mimetype": "text/x-python",
   "name": "python",
   "nbconvert_exporter": "python",
   "pygments_lexer": "ipython3",
   "version": "3.8.10"
  }
 },
 "nbformat": 4,
 "nbformat_minor": 5
}
