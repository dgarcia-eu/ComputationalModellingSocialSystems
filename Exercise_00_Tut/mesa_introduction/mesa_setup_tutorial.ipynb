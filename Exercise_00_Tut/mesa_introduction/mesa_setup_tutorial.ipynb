{
 "cells": [
  {
   "cell_type": "markdown",
   "id": "3201ee13",
   "metadata": {},
   "source": [
    "# Mesa package setup"
   ]
  },
  {
   "cell_type": "markdown",
   "id": "9c3e29c1",
   "metadata": {},
   "source": [
    "## Installation\n",
    "\n",
    "To start, install Mesa. We recommend doing this in a virtual environment - like Anaconda - but make sure your environment is set up with Python 3. Mesa requires Python3 and does not work in Python 2 environments.\n",
    "\n",
    "To install Mesa, simply use:\n",
    "\n",
    "`$ pip install mesa`\n",
    "\n",
    "When you do that, it will install Mesa itself, as well as any dependencies that aren’t in your setup yet. Additional dependencies should already be installed if you are using Anaconda enviroment.\n",
    "\n",
    "_(optional) In case you used other enviromens to install Jupyler Notebooks, consult appendix on how to get additional dependencies installed, in case you are missing them._\n",
    "\n",
    "_(optional) In case you are interested in Mesa source code or want to use Mesa in your Python projects, consult appendix on how to get Mesa git repository and install Mesa on your system_"
   ]
  },
  {
   "cell_type": "code",
   "execution_count": null,
   "id": "d7185818",
   "metadata": {},
   "outputs": [],
   "source": [
    "# Install a pip package in the current Jupyter kernel\n",
    "import sys\n",
    "!{sys.executable} -m pip install mesa\n",
    "!{sys.executable} -m pip install -U notebook-as-pdf"
   ]
  },
  {
   "cell_type": "markdown",
   "id": "26cbd088",
   "metadata": {},
   "source": [
    "## All done and ready for Mesa!"
   ]
  },
  {
   "cell_type": "markdown",
   "id": "67b9b1ab",
   "metadata": {},
   "source": [
    "## Appendix"
   ]
  },
  {
   "cell_type": "markdown",
   "id": "bb4d9923",
   "metadata": {},
   "source": [
    "### Additional dependencies\n",
    "\n",
    "Additional dependencies\n",
    "required by this tutorial can be found in the\n",
    "**examples/boltzmann_wealth_model/requirements.txt** file, which can be\n",
    "installed directly form the github repository by running:\n",
    "\n",
    "`$ pip install -r https://raw.githubusercontent.com/projectmesa/mesa/main/examples/boltzmann_wealth_model/requirements.txt`\n",
    "\n",
    "This will install the dependencies listed in the requirements.txt file which are:\n",
    "- jupyter (Ipython interactive notebook)\n",
    "- matplotlib (Python’s visualization library)\n",
    "- mesa (this ABM library – if not installed)\n",
    "- numpy (Python’s numerical python library)"
   ]
  },
  {
   "cell_type": "markdown",
   "id": "ee2e442b",
   "metadata": {},
   "source": [
    "### Mesa git repo and system installation"
   ]
  },
  {
   "cell_type": "code",
   "execution_count": null,
   "id": "12971331",
   "metadata": {},
   "outputs": [],
   "source": [
    "# To launch an example model, clone the repository folder and invoke mesa runserver for one of the examples/ subdirectories:\n",
    "# https://github.com/projectmesa/mesa\n",
    "# git clone https://github.com/projectmesa/mesa.git"
   ]
  },
  {
   "cell_type": "code",
   "execution_count": null,
   "id": "80fa8216",
   "metadata": {},
   "outputs": [],
   "source": [
    "# Install command on your local machinne using already prepared setup.py\n",
    "#cd /mesa\n",
    "#python3 setup.py install\n",
    "# -or- if your account doesn't have the proper privilages\n",
    "#sudo python3 setup.py install"
   ]
  },
  {
   "cell_type": "code",
   "execution_count": null,
   "id": "8f5bc63d",
   "metadata": {},
   "outputs": [],
   "source": [
    "# Run example\n",
    "# mesa runserver examples/wolf_sheep\n",
    "!mesa runserver ~/git/mesa/examples/wolf_sheep # < Run the system python command from jupyler notebooks"
   ]
  },
  {
   "cell_type": "code",
   "execution_count": null,
   "id": "6e8893c8",
   "metadata": {},
   "outputs": [],
   "source": [
    "import sys\n",
    "!{sys.executable} -m pip install -U notebook-as-pdf"
   ]
  }
 ],
 "metadata": {
  "kernelspec": {
   "display_name": "Python 3 (ipykernel)",
   "language": "python",
   "name": "python3"
  },
  "language_info": {
   "codemirror_mode": {
    "name": "ipython",
    "version": 3
   },
   "file_extension": ".py",
   "mimetype": "text/x-python",
   "name": "python",
   "nbconvert_exporter": "python",
   "pygments_lexer": "ipython3",
   "version": "3.8.10"
  }
 },
 "nbformat": 4,
 "nbformat_minor": 5
}
