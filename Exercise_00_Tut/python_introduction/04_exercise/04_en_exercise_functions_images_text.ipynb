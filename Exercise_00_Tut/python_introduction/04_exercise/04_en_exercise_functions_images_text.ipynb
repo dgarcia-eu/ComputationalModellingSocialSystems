{
 "cells": [
  {
   "cell_type": "markdown",
   "metadata": {},
   "source": [
    "_This teaching material can be freely used, distributed and modified as per the [CC-BY-SA 4.0](https://creativecommons.org/licenses/by/4.0/legalcode) license._   \n",
    " _Authors: Jana Lasser (jana.lasser@ds.mpg.de), Debsankha Manik (debsankha.manik@ds.mpg.de)._  \n",
    " _This teaching material is created for the project \"Daten Lesen Lernen\", funded by Stifterverband and the Heinz Nixdorf Stiftung._"
   ]
  },
  {
   "cell_type": "markdown",
   "metadata": {},
   "source": [
    "# Exercise 4\n",
    "### Some tips\n",
    "$\\rightarrow$ You should take a look at the exercises at home and try to solve as many tasks as you can. In the tutorials you could go on with solving the tasks you could not finish at home and if necessary, ask for help from the tutors. \n",
    "\n",
    "$\\rightarrow$ You you encounter an error:\n",
    "1. _Read_ and _understand_ the error message. \n",
    "2. Try to find out the solution to the problem ($\\rightarrow$ this may be hard at the beginning, but it is very educational!)\n",
    "3. Search using a search engine for the problem (hint: Stackoverflow) or ask your neighbour!\n",
    "4. Ask the tutors.\n",
    "\n",
    "$\\rightarrow$ Look out for the sign <font color='green'>**HINT**</font>: these are hints that helps you with solving the task and sometimes additional information regarding the task. \n",
    "\n",
    "$\\rightarrow$ Tasks marked **(Optional)** are for those of you who are extra fast :-)."
   ]
  },
  {
   "cell_type": "markdown",
   "metadata": {},
   "source": [
    "<a name=\"top\"></a>Contents\n",
    "---\n",
    "* [Tasks](#aufgaben)\n",
    "* [Supplement: images](#bilder)\n",
    "* [Supplement: Text](#text)"
   ]
  },
  {
   "cell_type": "markdown",
   "metadata": {},
   "source": [
    "<a name=\"aufgaben\"></a> Functions\n",
    "---\n",
    "For the topics \"Images\" and \"Text\", there's no video lectures. That's why we have some supplements with short introductions on these topics, that you  may look at before attempting the tasks on these two topics. \n",
    "\n",
    "1. **Functions**\n",
    "  1. Write a function that takes two numbers as arguments and prints their sum, difference, product and quotient on the console (use `print()`). Test the function with different sets of arguments. \n",
    "  2. Write another function, that accepts a list of numbers as its argument, and returns (not prints on console, use `return bla`) the sum of the squares of the numbers in the list. Test the function with different lists of numbers. \n",
    "  3. **(Optional)** Write another function, that takes a list of numbers as argument, sorts them in increasing order (you are not allowed to use the function `sort()`, otherwise it'd be boring :D). Test the function with different lists. What's the problem if you apply this function on a long list?\n"
   ]
  },
  {
   "cell_type": "code",
   "execution_count": null,
   "metadata": {},
   "outputs": [],
   "source": [
    "# create test list\n",
    "test_list = ['a', 'b', 'c', 'd', 'f']\n",
    "print('original list: {}'.format(test_list))\n",
    "\n",
    "# the following does not actually change\n",
    "# the list, only the temporary variable\n",
    "# `element` gets modified. \n",
    "for element in test_list:\n",
    "    element = 'z'\n",
    "    \n",
    "print('first try: {}'.format(test_list))\n",
    "\n",
    "# this actually changes the list \"permanently\"\n",
    "for index in range(len(test_list)):\n",
    "    test_list[index] = 'z'\n",
    "    \n",
    "print('second try: {}'.format(test_list))"
   ]
  },
  {
   "cell_type": "code",
   "execution_count": null,
   "metadata": {},
   "outputs": [],
   "source": [
    "# Create a function named \"my_calculator\"\n",
    "# It takes two arguments: \"num1\" and \"num2\"\n",
    "# It prints the sum\n",
    "def my_calculator(num1, num2):\n",
    "    summ = num1 + num2\n",
    "    print('{} + {} = {}'.format(num1, num2, summ))\n",
    "    "
   ]
  },
  {
   "cell_type": "code",
   "execution_count": null,
   "metadata": {},
   "outputs": [],
   "source": [
    "# the definition of \"my_calculator\" doesn't\n",
    "# do anything yet, but our notebook now\n",
    "# 'knows' the function \"my_calculator\". Now\n",
    "# we test our function with various arguments\n",
    "\n",
    "my_calculator(6, 10)\n"
   ]
  },
  {
   "cell_type": "markdown",
   "metadata": {},
   "source": [
    "[Top](#top)"
   ]
  }
 ],
 "metadata": {
  "kernelspec": {
   "display_name": "Python 3 (ipykernel)",
   "language": "python",
   "name": "python3"
  },
  "language_info": {
   "codemirror_mode": {
    "name": "ipython",
    "version": 3
   },
   "file_extension": ".py",
   "mimetype": "text/x-python",
   "name": "python",
   "nbconvert_exporter": "python",
   "pygments_lexer": "ipython3",
   "version": "3.9.7"
  }
 },
 "nbformat": 4,
 "nbformat_minor": 2
}
