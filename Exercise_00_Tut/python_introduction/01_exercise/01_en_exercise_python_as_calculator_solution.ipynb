{
 "cells": [
  {
   "cell_type": "markdown",
   "metadata": {},
   "source": [
    "_This teaching material can be freely used, distributed and modified as per the [CC-BY-SA 4.0](https://creativecommons.org/licenses/by/4.0/legalcode) license._   \n",
    " _Authors: Jana Lasser (jana.lasser@ds.mpg.de), Debsankha Manik (debsankha.manik@ds.mpg.de)._  \n",
    " _This teaching material is created for the project \"Daten Lesen Lernen\", funded by Stifterverband and the Heinz Nixdorf Stiftung._"
   ]
  },
  {
   "cell_type": "markdown",
   "metadata": {},
   "source": [
    "# Solutions to Exercise 1: Python as a calculator"
   ]
  },
  {
   "cell_type": "code",
   "execution_count": 1,
   "metadata": {},
   "outputs": [
    {
     "name": "stdout",
     "output_type": "stream",
     "text": [
      "2\n",
      "0\n",
      "12\n",
      "2.0\n",
      "256\n"
     ]
    }
   ],
   "source": [
    "# 2.A\n",
    "print(1 + 1)\n",
    "print(1 - 1)\n",
    "print(3 * 4)\n",
    "print(10 / 5)\n",
    "print(2 ** 8)"
   ]
  },
  {
   "cell_type": "code",
   "execution_count": 2,
   "metadata": {},
   "outputs": [
    {
     "name": "stdout",
     "output_type": "stream",
     "text": [
      "32\n",
      "50\n"
     ]
    }
   ],
   "source": [
    "# 2.B\n",
    "res1 = 10 * 3 + 2\n",
    "res2 = 10 * (3 + 2)\n",
    "\n",
    "print(res1)\n",
    "print(res2)"
   ]
  },
  {
   "cell_type": "code",
   "execution_count": 3,
   "metadata": {},
   "outputs": [
    {
     "name": "stdout",
     "output_type": "stream",
     "text": [
      "Floating point: \n",
      "3.3333333333333335\n",
      "<class 'float'>\n",
      "\n",
      "Integer: \n",
      "3\n",
      "<class 'int'>\n"
     ]
    }
   ],
   "source": [
    "# 2.C (Optional)\n",
    "res1 = 10/3\n",
    "print('Floating point: ')\n",
    "print(res1)\n",
    "print(type(res1))\n",
    "\n",
    "print() # \"print()\" without argument prints an empty line\n",
    "print('Integer: ')\n",
    "res2 = int(10 / 3)\n",
    "print(res2)\n",
    "print(type(res2))"
   ]
  },
  {
   "cell_type": "code",
   "execution_count": 4,
   "metadata": {},
   "outputs": [
    {
     "name": "stdout",
     "output_type": "stream",
     "text": [
      "0.30000000000000004\n"
     ]
    }
   ],
   "source": [
    "# 2.D (Optional)\n",
    "print(0.1 + 0.2) # the result is not exactly 0.3!"
   ]
  },
  {
   "cell_type": "code",
   "execution_count": 5,
   "metadata": {},
   "outputs": [
    {
     "data": {
      "text/plain": [
       "False"
      ]
     },
     "execution_count": 5,
     "metadata": {},
     "output_type": "execute_result"
    }
   ],
   "source": [
    "# 2.D Continuation\n",
    "\n",
    "# We can verify this by testing for numerical\n",
    "# equality using the `==` operator (we will explore\n",
    "# this later in depth). A `False` result means for\n",
    "# a computer, two things being compared are not\n",
    "# eqaual\n",
    "0.1 + 0.2 == 0.3"
   ]
  },
  {
   "cell_type": "code",
   "execution_count": 6,
   "metadata": {},
   "outputs": [],
   "source": [
    "# 3.A\n",
    "first_name = 'Emmy'\n",
    "last_name = 'Noether'\n",
    "text = '''In the spring of 1915, Noether was invited to return to\n",
    "the University of Göttingen by David Hilbert and Felix Klein. Their\n",
    "effort to recruit her, however, was blocked by the philologists and\n",
    "historians among the philosophical faculty: Women, they insisted,\n",
    "should not become privatdozenten. One faculty member protested:\n",
    "\"What will our soldiers think when they return to the university and\n",
    "find that they are required to learn at the feet of a woman?\" Hilbert\n",
    "responded with indignation, stating, \"I do not see that the sex of\n",
    "the candidate is an argument against her admission as privatdozent.\n",
    "After all, we are a university, not a bath house.\"'''"
   ]
  },
  {
   "cell_type": "code",
   "execution_count": 7,
   "metadata": {},
   "outputs": [
    {
     "name": "stdout",
     "output_type": "stream",
     "text": [
      "EmmyNoetherIn the spring of 1915, Noether was invited to return to\n",
      "the University of Göttingen by David Hilbert and Felix Klein. Their\n",
      "effort to recruit her, however, was blocked by the philologists and\n",
      "historians among the philosophical faculty: Women, they insisted,\n",
      "should not become privatdozenten. One faculty member protested:\n",
      "\"What will our soldiers think when they return to the university and\n",
      "find that they are required to learn at the feet of a woman?\" Hilbert\n",
      "responded with indignation, stating, \"I do not see that the sex of\n",
      "the candidate is an argument against her admission as privatdozent.\n",
      "After all, we are a university, not a bath house.\"\n"
     ]
    }
   ],
   "source": [
    "# 3.B\n",
    "sentence = first_name + last_name + text\n",
    "print(sentence)"
   ]
  },
  {
   "cell_type": "code",
   "execution_count": 8,
   "metadata": {},
   "outputs": [
    {
     "name": "stdout",
     "output_type": "stream",
     "text": [
      "About Emmy Noether: \"In the spring of 1915, Noether was invited to return to\n",
      "the University of Göttingen by David Hilbert and Felix Klein. Their\n",
      "effort to recruit her, however, was blocked by the philologists and\n",
      "historians among the philosophical faculty: Women, they insisted,\n",
      "should not become privatdozenten. One faculty member protested:\n",
      "\"What will our soldiers think when they return to the university and\n",
      "find that they are required to learn at the feet of a woman?\" Hilbert\n",
      "responded with indignation, stating, \"I do not see that the sex of\n",
      "the candidate is an argument against her admission as privatdozent.\n",
      "After all, we are a university, not a bath house.\"\"\n"
     ]
    }
   ],
   "source": [
    "# 3.C\n",
    "print('About {} {}: \"{}\"'.format(first_name, last_name, text))"
   ]
  },
  {
   "cell_type": "code",
   "execution_count": 9,
   "metadata": {
    "lines_to_next_cell": 0
   },
   "outputs": [
    {
     "name": "stdout",
     "output_type": "stream",
     "text": [
      "The product of 2 and 10 is 20.\n",
      "The division 2 / 10 results in 0.2.\n",
      "The dividend 0.2 is of type <class 'float'>\n"
     ]
    }
   ],
   "source": [
    "# 4.A and 4.B\n",
    "\n",
    "# define a few variables and store integers in them\n",
    "a = 2\n",
    "b = 10\n",
    "\n",
    "# compute the product of these \n",
    "product = a * b\n",
    "\n",
    "# show the product of these integers in a formatted\n",
    "# string\n",
    "print('The product of {} and {} is {}.'.format(a, b, product))\n",
    "\n",
    "# Compute the quotient of b and a\n",
    "quotient = a / b\n",
    "\n",
    "# show the quotient of these integers in a formatted\n",
    "# string\n",
    "print('The division {} / {} results in {}.'.format(a, b, quotient))\n",
    "\n",
    "# print also the type of the dividend\n",
    "print('The dividend {} is of type {}'.format(quotient, type(quotient)))"
   ]
  },
  {
   "cell_type": "code",
   "execution_count": null,
   "metadata": {
    "lines_to_next_cell": 2
   },
   "outputs": [],
   "source": []
  }
 ],
 "metadata": {
  "kernelspec": {
   "display_name": "Python 3",
   "language": "python",
   "name": "python3"
  },
  "language_info": {
   "codemirror_mode": {
    "name": "ipython",
    "version": 3
   },
   "file_extension": ".py",
   "mimetype": "text/x-python",
   "name": "python",
   "nbconvert_exporter": "python",
   "pygments_lexer": "ipython3",
   "version": "3.5.2"
  }
 },
 "nbformat": 4,
 "nbformat_minor": 2
}
