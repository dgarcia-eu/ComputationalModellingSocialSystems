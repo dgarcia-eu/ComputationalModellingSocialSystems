{
 "cells": [
  {
   "cell_type": "markdown",
   "metadata": {},
   "source": [
    "_This teaching material can be freely used, distributed and modified as per the [CC-BY-SA 4.0](https://creativecommons.org/licenses/by/4.0/legalcode) license._   \n",
    " _Authors: Jana Lasser (jana.lasser@ds.mpg.de), Debsankha Manik (debsankha.manik@ds.mpg.de)._  \n",
    " _This teaching material is created for the project \"Daten Lesen Lernen\", funded by Stifterverband and the Heinz Nixdorf Stiftung._"
   ]
  },
  {
   "cell_type": "markdown",
   "metadata": {},
   "source": [
    "# Solutions to Exercise 3: Logic, conditionals and filters"
   ]
  },
  {
   "cell_type": "markdown",
   "metadata": {},
   "source": [
    "### Logic"
   ]
  },
  {
   "cell_type": "code",
   "execution_count": 1,
   "metadata": {},
   "outputs": [
    {
     "name": "stdout",
     "output_type": "stream",
     "text": [
      "Letter \"e\" in word?\n",
      "False\n",
      "\n",
      "Word has less than 5 characters?\n",
      "False\n"
     ]
    }
   ],
   "source": [
    "# 1.A\n",
    "word = 'Python'\n",
    "\n",
    "# check if the word contains the letter 'e'\n",
    "print('Letter \"e\" in word?')\n",
    "print('e' in word)\n",
    "\n",
    "# print an empty line\n",
    "print()\n",
    "\n",
    "# check if the word is smaller than 5 characters\n",
    "print('Word has less than 5 characters?')\n",
    "print(len(word) < 5)"
   ]
  },
  {
   "cell_type": "code",
   "execution_count": 2,
   "metadata": {},
   "outputs": [
    {
     "name": "stdout",
     "output_type": "stream",
     "text": [
      "10 is even\n"
     ]
    }
   ],
   "source": [
    "# 1.B\n",
    "number = 10\n",
    "\n",
    "if number % 2 == 0:\n",
    "    print('{} is even'.format(number))\n",
    "else:\n",
    "    print('{} is odd'.format(number))"
   ]
  },
  {
   "cell_type": "markdown",
   "metadata": {},
   "source": [
    "### Conditionals"
   ]
  },
  {
   "cell_type": "code",
   "execution_count": 3,
   "metadata": {},
   "outputs": [
    {
     "name": "stdout",
     "output_type": "stream",
     "text": [
      "[0, 1, 2, 3, 4, 5, 6, 7, 8, 9, 10, 11, 12, 13, 14, 15, 16, 17, 18, 19, 20]\n"
     ]
    }
   ],
   "source": [
    "# 2.A\n",
    "# 3. \n",
    "number_list = list(range(0,21))\n",
    "print(number_list)"
   ]
  },
  {
   "cell_type": "code",
   "execution_count": 4,
   "metadata": {},
   "outputs": [
    {
     "name": "stdout",
     "output_type": "stream",
     "text": [
      "0\n",
      "2\n",
      "4\n",
      "6\n",
      "8\n",
      "10\n",
      "12\n",
      "14\n",
      "16\n",
      "18\n",
      "5.0\n",
      "5.5\n",
      "6.0\n",
      "6.5\n",
      "7.0\n",
      "Warning: number 15 has been reached!\n",
      "8.0\n",
      "8.5\n",
      "9.0\n",
      "9.5\n",
      "10.0\n"
     ]
    }
   ],
   "source": [
    "# 2.B\n",
    "# iterate over the numbers in number_list\n",
    "for number in number_list:\n",
    "    \n",
    "    # check if number is less than 10\n",
    "    if number < 10:\n",
    "        print(number * 2)\n",
    "    \n",
    "    # print special message for 15\n",
    "    elif number == 15:\n",
    "        print(\"Warning: number 15 has been reached!\")\n",
    "    \n",
    "    # if >= 10, \n",
    "    # und number != 15\n",
    "    else:\n",
    "        print(number / 2)"
   ]
  },
  {
   "cell_type": "markdown",
   "metadata": {},
   "source": [
    "### Filter"
   ]
  },
  {
   "cell_type": "markdown",
   "metadata": {},
   "source": [
    "We want to create a table containing only the surviving passengers. Remember: the column \"survived\" contains \"1\" if a passenger survived, and \"0\" otherwise. \n",
    "\n",
    "We here create a mask to filter out the pssengers who didn't survive."
   ]
  },
  {
   "cell_type": "code",
   "execution_count": 5,
   "metadata": {},
   "outputs": [
    {
     "data": {
      "text/html": [
       "<div>\n",
       "<style scoped>\n",
       "    .dataframe tbody tr th:only-of-type {\n",
       "        vertical-align: middle;\n",
       "    }\n",
       "\n",
       "    .dataframe tbody tr th {\n",
       "        vertical-align: top;\n",
       "    }\n",
       "\n",
       "    .dataframe thead th {\n",
       "        text-align: right;\n",
       "    }\n",
       "</style>\n",
       "<table border=\"1\" class=\"dataframe\">\n",
       "  <thead>\n",
       "    <tr style=\"text-align: right;\">\n",
       "      <th></th>\n",
       "      <th>survived</th>\n",
       "      <th>pclass</th>\n",
       "      <th>sex</th>\n",
       "      <th>age</th>\n",
       "      <th>sibsp</th>\n",
       "      <th>parch</th>\n",
       "      <th>fare</th>\n",
       "      <th>embarked</th>\n",
       "      <th>class</th>\n",
       "      <th>who</th>\n",
       "      <th>adult_male</th>\n",
       "      <th>deck</th>\n",
       "      <th>embark_town</th>\n",
       "      <th>alive</th>\n",
       "      <th>alone</th>\n",
       "    </tr>\n",
       "  </thead>\n",
       "  <tbody>\n",
       "    <tr>\n",
       "      <th>1</th>\n",
       "      <td>1</td>\n",
       "      <td>1</td>\n",
       "      <td>female</td>\n",
       "      <td>38.0</td>\n",
       "      <td>1</td>\n",
       "      <td>0</td>\n",
       "      <td>71.2833</td>\n",
       "      <td>C</td>\n",
       "      <td>First</td>\n",
       "      <td>woman</td>\n",
       "      <td>False</td>\n",
       "      <td>C</td>\n",
       "      <td>Cherbourg</td>\n",
       "      <td>yes</td>\n",
       "      <td>False</td>\n",
       "    </tr>\n",
       "    <tr>\n",
       "      <th>2</th>\n",
       "      <td>1</td>\n",
       "      <td>3</td>\n",
       "      <td>female</td>\n",
       "      <td>26.0</td>\n",
       "      <td>0</td>\n",
       "      <td>0</td>\n",
       "      <td>7.9250</td>\n",
       "      <td>S</td>\n",
       "      <td>Third</td>\n",
       "      <td>woman</td>\n",
       "      <td>False</td>\n",
       "      <td>NaN</td>\n",
       "      <td>Southampton</td>\n",
       "      <td>yes</td>\n",
       "      <td>True</td>\n",
       "    </tr>\n",
       "    <tr>\n",
       "      <th>3</th>\n",
       "      <td>1</td>\n",
       "      <td>1</td>\n",
       "      <td>female</td>\n",
       "      <td>35.0</td>\n",
       "      <td>1</td>\n",
       "      <td>0</td>\n",
       "      <td>53.1000</td>\n",
       "      <td>S</td>\n",
       "      <td>First</td>\n",
       "      <td>woman</td>\n",
       "      <td>False</td>\n",
       "      <td>C</td>\n",
       "      <td>Southampton</td>\n",
       "      <td>yes</td>\n",
       "      <td>False</td>\n",
       "    </tr>\n",
       "    <tr>\n",
       "      <th>8</th>\n",
       "      <td>1</td>\n",
       "      <td>3</td>\n",
       "      <td>female</td>\n",
       "      <td>27.0</td>\n",
       "      <td>0</td>\n",
       "      <td>2</td>\n",
       "      <td>11.1333</td>\n",
       "      <td>S</td>\n",
       "      <td>Third</td>\n",
       "      <td>woman</td>\n",
       "      <td>False</td>\n",
       "      <td>NaN</td>\n",
       "      <td>Southampton</td>\n",
       "      <td>yes</td>\n",
       "      <td>False</td>\n",
       "    </tr>\n",
       "    <tr>\n",
       "      <th>9</th>\n",
       "      <td>1</td>\n",
       "      <td>2</td>\n",
       "      <td>female</td>\n",
       "      <td>14.0</td>\n",
       "      <td>1</td>\n",
       "      <td>0</td>\n",
       "      <td>30.0708</td>\n",
       "      <td>C</td>\n",
       "      <td>Second</td>\n",
       "      <td>child</td>\n",
       "      <td>False</td>\n",
       "      <td>NaN</td>\n",
       "      <td>Cherbourg</td>\n",
       "      <td>yes</td>\n",
       "      <td>False</td>\n",
       "    </tr>\n",
       "  </tbody>\n",
       "</table>\n",
       "</div>"
      ],
      "text/plain": [
       "   survived  pclass     sex   age  sibsp  parch     fare embarked   class  \\\n",
       "1         1       1  female  38.0      1      0  71.2833        C   First   \n",
       "2         1       3  female  26.0      0      0   7.9250        S   Third   \n",
       "3         1       1  female  35.0      1      0  53.1000        S   First   \n",
       "8         1       3  female  27.0      0      2  11.1333        S   Third   \n",
       "9         1       2  female  14.0      1      0  30.0708        C  Second   \n",
       "\n",
       "     who  adult_male deck  embark_town alive  alone  \n",
       "1  woman       False    C    Cherbourg   yes  False  \n",
       "2  woman       False  NaN  Southampton   yes   True  \n",
       "3  woman       False    C  Southampton   yes  False  \n",
       "8  woman       False  NaN  Southampton   yes  False  \n",
       "9  child       False  NaN    Cherbourg   yes  False  "
      ]
     },
     "execution_count": 5,
     "metadata": {},
     "output_type": "execute_result"
    }
   ],
   "source": [
    "# 3.A\n",
    "# import pandas\n",
    "import pandas as pd\n",
    "\n",
    "# load the dataset\n",
    "titanic_data = pd.read_csv('../data/titanic.csv')\n",
    "\n",
    "# create the mask. \n",
    "mask_survivors = titanic_data['survived'] == 1\n",
    "\n",
    "# filtere den Datensatz\n",
    "survivors = titanic_data[mask_survivors]\n",
    "survivors.head()"
   ]
  },
  {
   "cell_type": "markdown",
   "metadata": {},
   "source": [
    "Now we want to filter by gender as well, and create separate tables for surviving men and surviving women. For this we use the column 'sex' for filtering."
   ]
  },
  {
   "cell_type": "code",
   "execution_count": 6,
   "metadata": {},
   "outputs": [
    {
     "name": "stdout",
     "output_type": "stream",
     "text": [
      "233 women survived.\n",
      "109 men survived.\n"
     ]
    }
   ],
   "source": [
    "# 3.B surviving men and women\n",
    "\n",
    "# create a table for surviving women and filter the table\n",
    "# store the result in a variable: surviving_women \n",
    "mask_surviving_women = survivors['sex'] == 'female'\n",
    "surviving_women = survivors[mask_surviving_women]\n",
    "\n",
    "# create a table for surviving women and filter the table\n",
    "# store the result in a variable: surviving_men \n",
    "mask_surviving_men = survivors['sex'] == 'male'\n",
    "surviving_men = survivors[mask_surviving_men]\n",
    "\n",
    "# compute the number of surviving men and women with the `len()`\n",
    "# function\n",
    "num_surviving_women = len(surviving_women)\n",
    "num_surviving_men = len(surviving_men)\n",
    "\n",
    "print('{} women survived.'.format(num_surviving_women))\n",
    "print('{} men survived.'.format(num_surviving_men))"
   ]
  },
  {
   "cell_type": "markdown",
   "metadata": {},
   "source": [
    "Now we want to know in addition, the numbers of men and women among all passengers (irrespective of whether they survived or not), in order to understand what fraction of men and women survived:"
   ]
  },
  {
   "cell_type": "code",
   "execution_count": 7,
   "metadata": {},
   "outputs": [
    {
     "name": "stdout",
     "output_type": "stream",
     "text": [
      "There were 314 women and 577 men onboard the Titanic.\n",
      "Out of which 233 women and 109 men survived.\n"
     ]
    }
   ],
   "source": [
    "# 3.C total passengers of titanic by gender\n",
    "\n",
    "# two masks for each gender \n",
    "mask_women = titanic_data['sex'] == 'female'\n",
    "mask_men = titanic_data['sex'] == 'male'\n",
    "\n",
    "# now create two tables for each gender by \n",
    "# using these masks\n",
    "all_women = titanic_data[mask_women]\n",
    "all_men = titanic_data[mask_men]\n",
    "\n",
    "# now obtain the number of men/women by\n",
    "# using the len() function\n",
    "num_women = len(all_women)\n",
    "num_men = len(all_men)\n",
    "\n",
    "print('There were {} women and {} men onboard the Titanic.'\\\n",
    "     .format(num_women, num_men))\n",
    "\n",
    "print('Out of which {} women and {} men survived.'\\\n",
    "     .format(num_surviving_women, num_surviving_men))"
   ]
  },
  {
   "cell_type": "code",
   "execution_count": 8,
   "metadata": {},
   "outputs": [
    {
     "name": "stdout",
     "output_type": "stream",
     "text": [
      "74.2% of the women und 18.9% of the men survived.\n"
     ]
    }
   ],
   "source": [
    "# 3.D Surviving probability\n",
    "\n",
    "# let's compute the percentage of men and women surviving \n",
    "percentage_surviving_women = num_surviving_women / num_women * 100\n",
    "percentage_surviving_men = num_surviving_men / num_men * 100\n",
    "\n",
    "print('{:1.1f}% of the women und {:1.1f}% of the men survived.'\\\n",
    "     .format(percentage_surviving_women, percentage_surviving_men))"
   ]
  },
  {
   "cell_type": "markdown",
   "metadata": {},
   "source": [
    "3.E) When Titanic was sinking, women and children were given priority while evacuating. This explains the higher percentage of women surviving than men. If one isn't aware of this fact, one can come up with (false) explanations, e.g. :\n",
    "* Women can swim better. \n",
    "* Women could scream louder and therefore could be found more easily by ships coming for rescue. \n",
    "* Women have more body fat and therefore could survive longer in the cold water.\n",
    "..."
   ]
  },
  {
   "cell_type": "code",
   "execution_count": 9,
   "metadata": {},
   "outputs": [
    {
     "data": {
      "text/html": [
       "<div>\n",
       "<style scoped>\n",
       "    .dataframe tbody tr th:only-of-type {\n",
       "        vertical-align: middle;\n",
       "    }\n",
       "\n",
       "    .dataframe tbody tr th {\n",
       "        vertical-align: top;\n",
       "    }\n",
       "\n",
       "    .dataframe thead th {\n",
       "        text-align: right;\n",
       "    }\n",
       "</style>\n",
       "<table border=\"1\" class=\"dataframe\">\n",
       "  <thead>\n",
       "    <tr style=\"text-align: right;\">\n",
       "      <th></th>\n",
       "      <th>survived</th>\n",
       "      <th>pclass</th>\n",
       "      <th>sex</th>\n",
       "      <th>age</th>\n",
       "      <th>sibsp</th>\n",
       "      <th>parch</th>\n",
       "      <th>fare</th>\n",
       "      <th>embarked</th>\n",
       "      <th>class</th>\n",
       "      <th>who</th>\n",
       "      <th>adult_male</th>\n",
       "      <th>deck</th>\n",
       "      <th>embark_town</th>\n",
       "      <th>alive</th>\n",
       "      <th>alone</th>\n",
       "    </tr>\n",
       "  </thead>\n",
       "  <tbody>\n",
       "    <tr>\n",
       "      <th>0</th>\n",
       "      <td>0</td>\n",
       "      <td>3</td>\n",
       "      <td>male</td>\n",
       "      <td>22.0</td>\n",
       "      <td>1</td>\n",
       "      <td>0</td>\n",
       "      <td>7.2500</td>\n",
       "      <td>S</td>\n",
       "      <td>Third</td>\n",
       "      <td>man</td>\n",
       "      <td>True</td>\n",
       "      <td>NaN</td>\n",
       "      <td>Southampton</td>\n",
       "      <td>no</td>\n",
       "      <td>False</td>\n",
       "    </tr>\n",
       "    <tr>\n",
       "      <th>1</th>\n",
       "      <td>1</td>\n",
       "      <td>1</td>\n",
       "      <td>female</td>\n",
       "      <td>38.0</td>\n",
       "      <td>1</td>\n",
       "      <td>0</td>\n",
       "      <td>71.2833</td>\n",
       "      <td>C</td>\n",
       "      <td>First</td>\n",
       "      <td>woman</td>\n",
       "      <td>False</td>\n",
       "      <td>C</td>\n",
       "      <td>Cherbourg</td>\n",
       "      <td>yes</td>\n",
       "      <td>False</td>\n",
       "    </tr>\n",
       "    <tr>\n",
       "      <th>2</th>\n",
       "      <td>1</td>\n",
       "      <td>3</td>\n",
       "      <td>female</td>\n",
       "      <td>26.0</td>\n",
       "      <td>0</td>\n",
       "      <td>0</td>\n",
       "      <td>7.9250</td>\n",
       "      <td>S</td>\n",
       "      <td>Third</td>\n",
       "      <td>woman</td>\n",
       "      <td>False</td>\n",
       "      <td>NaN</td>\n",
       "      <td>Southampton</td>\n",
       "      <td>yes</td>\n",
       "      <td>True</td>\n",
       "    </tr>\n",
       "    <tr>\n",
       "      <th>3</th>\n",
       "      <td>1</td>\n",
       "      <td>1</td>\n",
       "      <td>female</td>\n",
       "      <td>35.0</td>\n",
       "      <td>1</td>\n",
       "      <td>0</td>\n",
       "      <td>53.1000</td>\n",
       "      <td>S</td>\n",
       "      <td>First</td>\n",
       "      <td>woman</td>\n",
       "      <td>False</td>\n",
       "      <td>C</td>\n",
       "      <td>Southampton</td>\n",
       "      <td>yes</td>\n",
       "      <td>False</td>\n",
       "    </tr>\n",
       "    <tr>\n",
       "      <th>4</th>\n",
       "      <td>0</td>\n",
       "      <td>3</td>\n",
       "      <td>male</td>\n",
       "      <td>35.0</td>\n",
       "      <td>0</td>\n",
       "      <td>0</td>\n",
       "      <td>8.0500</td>\n",
       "      <td>S</td>\n",
       "      <td>Third</td>\n",
       "      <td>man</td>\n",
       "      <td>True</td>\n",
       "      <td>NaN</td>\n",
       "      <td>Southampton</td>\n",
       "      <td>no</td>\n",
       "      <td>True</td>\n",
       "    </tr>\n",
       "  </tbody>\n",
       "</table>\n",
       "</div>"
      ],
      "text/plain": [
       "   survived  pclass     sex   age  sibsp  parch     fare embarked  class  \\\n",
       "0         0       3    male  22.0      1      0   7.2500        S  Third   \n",
       "1         1       1  female  38.0      1      0  71.2833        C  First   \n",
       "2         1       3  female  26.0      0      0   7.9250        S  Third   \n",
       "3         1       1  female  35.0      1      0  53.1000        S  First   \n",
       "4         0       3    male  35.0      0      0   8.0500        S  Third   \n",
       "\n",
       "     who  adult_male deck  embark_town alive  alone  \n",
       "0    man        True  NaN  Southampton    no  False  \n",
       "1  woman       False    C    Cherbourg   yes  False  \n",
       "2  woman       False  NaN  Southampton   yes   True  \n",
       "3  woman       False    C  Southampton   yes  False  \n",
       "4    man        True  NaN  Southampton    no   True  "
      ]
     },
     "execution_count": 9,
     "metadata": {},
     "output_type": "execute_result"
    }
   ],
   "source": [
    "# 3.F\n",
    "titanic_data.head()"
   ]
  },
  {
   "cell_type": "code",
   "execution_count": 10,
   "metadata": {},
   "outputs": [
    {
     "name": "stdout",
     "output_type": "stream",
     "text": [
      "**Passengers**\n",
      "Class 1: 216, Class 2: 184, Class 3: 491\n",
      "\n",
      "**Surviving passengers**\n",
      "Class 1: 136, Class 2: 87, Class 3: 119\n",
      "\n",
      "**Survivors in each class**\n",
      "Class 1: 62.96, Class 2: 47.28, Class 3: 24.24\n"
     ]
    }
   ],
   "source": [
    "# passengers in class 1, 2, and 3\n",
    "\n",
    "# create masks\n",
    "mask_class1 = titanic_data['pclass'] == 1\n",
    "mask_class2 = titanic_data['pclass'] == 2\n",
    "mask_class3 = titanic_data['pclass'] == 3\n",
    "\n",
    "# filter the table and create three new tables\n",
    "total_class1 = titanic_data[mask_class1]\n",
    "total_class2 = titanic_data[mask_class2]\n",
    "total_class3 = titanic_data[mask_class3]\n",
    "\n",
    "# number of passengers in each class\n",
    "num_class1 = len(total_class1)\n",
    "num_class2 = len(total_class2)\n",
    "num_class3 = len(total_class3)\n",
    "\n",
    "# Print intermediate result\n",
    "print('**Passengers**')\n",
    "print('Class 1: {}, Class 2: {}, Class 3: {}'\\\n",
    "     .format(num_class1, num_class2, num_class3))\n",
    "\n",
    "# Survivors\n",
    "# create mask\n",
    "mask_survivors = titanic_data['survived'] == 1\n",
    "\n",
    "# filter the dataset\n",
    "survivors = titanic_data[mask_survivors]\n",
    "\n",
    "# mask for survivors, one for each class\n",
    "mask_survivors_class1 = survivors['pclass'] == 1\n",
    "mask_survivors_class2 = survivors['pclass'] == 2\n",
    "mask_survivors_class3 = survivors['pclass'] == 3\n",
    "\n",
    "# filter for survivors in each class\n",
    "survivors_class1 = survivors[mask_survivors_class1]\n",
    "survivors_class2 = survivors[mask_survivors_class2]\n",
    "survivors_class3 = survivors[mask_survivors_class3]\n",
    "\n",
    "# compute number of survivors in each class\n",
    "num_survivors_class1 = len(survivors_class1)\n",
    "num_survivors_class2 = len(survivors_class2)\n",
    "num_survivors_class3 = len(survivors_class3)\n",
    "\n",
    "# Print intermediate result \n",
    "print()\n",
    "print('**Surviving passengers**')\n",
    "print('Class 1: {}, Class 2: {}, Class 3: {}'\\\n",
    "     .format(num_survivors_class1, \\\n",
    "             num_survivors_class2, \\\n",
    "             num_survivors_class3))\n",
    "\n",
    "# Compute percentage of surviving passengers in each class\n",
    "percent_survivors_class1 = num_survivors_class1 / num_class1 * 100\n",
    "percent_survivors_class2 = num_survivors_class2 / num_class2 * 100\n",
    "percent_survivors_class3 = num_survivors_class3 / num_class3 * 100\n",
    "\n",
    "# Print final result\n",
    "print()\n",
    "print('**Survivors in each class**')\n",
    "print('Class 1: {:1.2f}, Class 2: {:1.2f}, Class 3: {:1.2f}'\\\n",
    "     .format(percent_survivors_class1, \\\n",
    "             percent_survivors_class2, \\\n",
    "             percent_survivors_class3))"
   ]
  },
  {
   "cell_type": "code",
   "execution_count": 11,
   "metadata": {
    "lines_to_next_cell": 0
   },
   "outputs": [
    {
     "data": {
      "image/png": "[encoded data removed]",
      "text/plain": [
       "<Figure size 432x288 with 1 Axes>"
      ]
     },
     "metadata": {},
     "output_type": "display_data"
    }
   ],
   "source": [
    "# Bonus: visualization\n",
    "\n",
    "# import matplotlib.pyplot under the alias `plt`\n",
    "import matplotlib.pyplot as plt\n",
    "%matplotlib inline\n",
    "# The class should be X axis. Therefore we create a list\n",
    "# with teh classes\n",
    "classes = [1, 2, 3]\n",
    "\n",
    "# the survivors (in each class) will be the the Y axis.\n",
    "# therefore we put that data in a list\n",
    "survival_chance = [percent_survivors_class1, \\\n",
    "                   percent_survivors_class2, \\\n",
    "                   percent_survivors_class3]\n",
    "\n",
    "# The function `scatter()` creates  aso-called \"scatterplot\"\n",
    "# It draws a point in a 2-d plane spanned by the X and Y axes.\n",
    "# The function must be supplied two lists. \n",
    "# The x-coordinate of each point is the value in the \n",
    "# first list (here class),\n",
    "# the y coordinate is the corresponding value in the\n",
    "# second list (here survival probability. \n",
    "plt.scatter(classes, survival_chance)\n",
    "\n",
    "# The function `title()` lets us create a nice title for \n",
    "# our plot\n",
    "plt.title('Survival probability per class in the Titanic')\n",
    "\n",
    "# with the functions `xlabel()` and `ylabel()`, we describe\n",
    "# what the x amd y axes mean. ALWAYS, axes of a plot must be \n",
    "# labelled, so that everyone understands what exactly a plot\n",
    "# shows\n",
    "plt.xlabel('Class')\n",
    "plt.ylabel('Survival probability / %')\n",
    "\n",
    "# here we make sure the ticks in the x axis is appropriate\n",
    "# for the plot. Since we have three classes (1, 2 and 3),\n",
    "# The x axis should have three ticks at these values. \n",
    "# Try to remove the following line (preferably commenting out\n",
    "# with a #) and see what difference it makes. \n",
    "plt.gca().set_xticks([1,2,3]);"
   ]
  },
  {
   "cell_type": "code",
   "execution_count": null,
   "metadata": {
    "lines_to_next_cell": 2
   },
   "outputs": [],
   "source": []
  }
 ],
 "metadata": {
  "kernelspec": {
   "display_name": "Python 3",
   "language": "python",
   "name": "python3"
  },
  "language_info": {
   "codemirror_mode": {
    "name": "ipython",
    "version": 3
   },
   "file_extension": ".py",
   "mimetype": "text/x-python",
   "name": "python",
   "nbconvert_exporter": "python",
   "pygments_lexer": "ipython3",
   "version": "3.5.2"
  }
 },
 "nbformat": 4,
 "nbformat_minor": 2
}
