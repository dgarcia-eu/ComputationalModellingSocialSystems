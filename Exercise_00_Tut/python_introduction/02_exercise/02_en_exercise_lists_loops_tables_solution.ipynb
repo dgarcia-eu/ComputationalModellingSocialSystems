{
 "cells": [
  {
   "cell_type": "markdown",
   "metadata": {},
   "source": [
    "_This teaching material can be freely used, distributed and modified as per the [CC-BY-SA 4.0](https://creativecommons.org/licenses/by/4.0/legalcode) license._   \n",
    " _Authors: Jana Lasser (jana.lasser@ds.mpg.de), Debsankha Manik (debsankha.manik@ds.mpg.de)._  \n",
    " _This teaching material is created for the project \"Daten Lesen Lernen\", funded by Stifterverband and the Heinz Nixdorf Stiftung._"
   ]
  },
  {
   "cell_type": "markdown",
   "metadata": {},
   "source": [
    "# Solutions to Exercise 2: Lists, loops and tables"
   ]
  },
  {
   "cell_type": "markdown",
   "metadata": {},
   "source": [
    "### Lists and loops"
   ]
  },
  {
   "cell_type": "code",
   "execution_count": 1,
   "metadata": {},
   "outputs": [],
   "source": [
    "# 1.A\n",
    "word_list = ['A', 'string', 'is', 'a', 'chain', 'of', 'characters']"
   ]
  },
  {
   "cell_type": "code",
   "execution_count": 2,
   "metadata": {},
   "outputs": [
    {
     "name": "stdout",
     "output_type": "stream",
     "text": [
      "A\n",
      "string\n",
      "is\n",
      "a\n",
      "chain\n",
      "of\n",
      "characters\n"
     ]
    }
   ],
   "source": [
    "# 1.B\n",
    "for word in word_list:\n",
    "    print(word)"
   ]
  },
  {
   "cell_type": "code",
   "execution_count": 3,
   "metadata": {},
   "outputs": [
    {
     "name": "stdout",
     "output_type": "stream",
     "text": [
      "Astringisachainofcharacters\n"
     ]
    }
   ],
   "source": [
    "# 1.C\n",
    "sentence = '' # this is an empty list\n",
    "\n",
    "for word in word_list:\n",
    "    sentence = sentence + word\n",
    "    \n",
    "print(sentence)"
   ]
  },
  {
   "cell_type": "code",
   "execution_count": 4,
   "metadata": {},
   "outputs": [
    {
     "name": "stdout",
     "output_type": "stream",
     "text": [
      " A string is a chain of characters\n"
     ]
    }
   ],
   "source": [
    "# 1.C second try:\n",
    "sentence = '' # this is an empty list\n",
    "\n",
    "for word in word_list:\n",
    "    # add an extra space before each word\n",
    "    sentence = sentence + ' ' + word\n",
    "    \n",
    "print(sentence)"
   ]
  },
  {
   "cell_type": "code",
   "execution_count": 5,
   "metadata": {},
   "outputs": [
    {
     "name": "stdout",
     "output_type": "stream",
     "text": [
      "1\n",
      "2\n",
      "3\n",
      "4\n",
      "5\n",
      "6\n",
      "7\n",
      "8\n",
      "9\n",
      "10\n"
     ]
    }
   ],
   "source": [
    "# 1.D \n",
    "numbers = [1,2,3,4,5,6,7,8,9,10]\n",
    "\n",
    "for number in numbers:\n",
    "    print(number)"
   ]
  },
  {
   "cell_type": "code",
   "execution_count": 6,
   "metadata": {},
   "outputs": [
    {
     "name": "stdout",
     "output_type": "stream",
     "text": [
      "[2, 4, 6, 8, 10]\n",
      "[1, 3, 5, 7, 9]\n",
      "[1, 2, 3, 4]\n",
      "[7, 8, 9, 10]\n"
     ]
    }
   ],
   "source": [
    "# 1.E\n",
    "# even numbers\n",
    "print(numbers[1::2])\n",
    "\n",
    "# odd numbers\n",
    "print(numbers[0::2])\n",
    "\n",
    "# the first four elements\n",
    "print(numbers[0:4])\n",
    "\n",
    "# the last four elements\n",
    "print(numbers[-4:])"
   ]
  },
  {
   "cell_type": "markdown",
   "metadata": {},
   "source": [
    "### Tables"
   ]
  },
  {
   "cell_type": "code",
   "execution_count": 7,
   "metadata": {},
   "outputs": [],
   "source": [
    "# 2.A\n",
    "# import the library pandas under the \n",
    "# alias \"pd\"\n",
    "import pandas as pd\n",
    "\n",
    "# load the Titanic dataset and save as\n",
    "# variable 'titanic_data' \n",
    "# DataFrame in der Variable \"titanic_data\"\n",
    "titanic_data = pd.read_csv('../data/titanic.csv')"
   ]
  },
  {
   "cell_type": "code",
   "execution_count": 8,
   "metadata": {},
   "outputs": [
    {
     "name": "stdout",
     "output_type": "stream",
     "text": [
      "The dataset has 891 rows.\n"
     ]
    }
   ],
   "source": [
    "# 2.B\n",
    "# Show the first few rows of the table\n",
    "titanic_data.head()\n",
    "\n",
    "length_data = len(titanic_data)\n",
    "print('The dataset has {} rows.'.format(length_data))"
   ]
  },
  {
   "cell_type": "markdown",
   "metadata": {},
   "source": [
    "2.C\n",
    "\n",
    "This task is more of an exploration task than a task with a single answer, but this is quite often the case when one needs to deal with datasets and understand them. Some background information about the titanic dataset is [available here](https://www.kaggle.com/francksylla/titanic-machine-learning-from-disaster). We summarize the information for each column here as well:\n",
    "  * ```sibsp``` stands for \"sibling\" or \"spouse\" (indicates whether a passenger had a sibling or spouse on board).\n",
    "  * ```parch``` stands for \"parent\" or \"child\" (indicates whether a passenger had a parent or child on board).\n",
    "  * ```alone``` is self explanatory (equivalent to both ```sibsp``` and ```parch``` being zero).\n",
    "  * ```pclass``` or ```class``` indicates the class in which a passenger travelled (once as a number, then as a string).\n",
    "  * ```fare``` is the price one paid for the ticket, ```embark town``` means the town at which the passenger boarded the ship. ```embarked```  is an abbriviation for ```embark town```.\n",
    "  * ```sex``` and ```age``` are self-explnatory.\n",
    "  * ```survived``` und ```alive``` indicates whether a passenger survived or not (once as a number, then as a string).\n",
    "  * ```deck``` indicates the deck at which a passenger's berth at Titanic was. \n",
    "  * ```NaN``` as a cell value indicates that no information is avilable regarding certain column for a certain row."
   ]
  },
  {
   "cell_type": "code",
   "execution_count": 9,
   "metadata": {},
   "outputs": [
    {
     "name": "stdout",
     "output_type": "stream",
     "text": [
      "The average ticket price is 32.204207968574636.\n"
     ]
    }
   ],
   "source": [
    "# 2.D \n",
    "# compute the average of the column 'fare'\n",
    "mean_price = titanic_data['fare'].mean()\n",
    "print('The average ticket price is {}.'\\\n",
    "      .format(mean_price))"
   ]
  },
  {
   "cell_type": "code",
   "execution_count": 10,
   "metadata": {},
   "outputs": [
    {
     "name": "stdout",
     "output_type": "stream",
     "text": [
      "342 people survived the Titanic disaster.\n"
     ]
    }
   ],
   "source": [
    "# 2.E Optional \n",
    "# the number of survivors can be computed by summing\n",
    "# over the column 'survived'. This works, because the\n",
    "# survivors have value 1 and the non-survivors have\n",
    "# value 0\n",
    "survivors = titanic_data['survived'].sum()\n",
    "print('{} people survived the Titanic disaster.'\\\n",
    "     .format(survivors))"
   ]
  },
  {
   "cell_type": "code",
   "execution_count": 11,
   "metadata": {},
   "outputs": [
    {
     "name": "stdout",
     "output_type": "stream",
     "text": [
      "100\n"
     ]
    }
   ],
   "source": [
    "# 2.F\n",
    "long_list = list(range(0,100))\n",
    "list_length = len(long_list)\n",
    "print(list_length)"
   ]
  },
  {
   "cell_type": "code",
   "execution_count": 12,
   "metadata": {},
   "outputs": [
    {
     "name": "stdout",
     "output_type": "stream",
     "text": [
      "new number: 276\n",
      "new number: 373\n",
      "new number: 348\n",
      "new number: 292\n",
      "new number: 325\n",
      "[276, 373, 348, 292, 325]\n"
     ]
    }
   ],
   "source": [
    "# 2.G Optional\n",
    "numbers_list = [7, 104, 79, 23, 56]\n",
    "sum_list = [] # this is an empty list\n",
    "\n",
    "for num in numbers_list:\n",
    "    # add to each number the sum of\n",
    "    # the whole list\n",
    "    num = num + sum(numbers_list)\n",
    "    \n",
    "    # print the new number\n",
    "    print('new number: {}'.format(num))\n",
    "    \n",
    "    # append the new number to the sum_list\n",
    "    sum_list.append(num)\n",
    "    \n",
    "print(sum_list)"
   ]
  },
  {
   "cell_type": "code",
   "execution_count": 13,
   "metadata": {},
   "outputs": [
    {
     "name": "stdout",
     "output_type": "stream",
     "text": [
      "[0, 1, 0, 3, 0, 5, 0, 7, 0, 9, 0, 11, 0, 13, 0, 15, 0, 17, 0, 19, 0, 21, 0, 23, 0, 25, 0, 27, 0, 29, 0, 31, 0, 33, 0, 35, 0, 37, 0, 39, 0, 41, 0, 43, 0, 45, 0, 47, 0, 49, 0, 51, 0, 53, 0, 55, 0, 57, 0, 59, 0, 61, 0, 63, 0, 65, 0, 67, 0, 69, 0, 71, 0, 73, 0, 75, 0, 77, 0, 79, 0, 81, 0, 83, 0, 85, 0, 87, 0, 89, 0, 91, 0, 93, 0, 95, 0, 97, 0, 99]\n"
     ]
    }
   ],
   "source": [
    "# 2.H\n",
    "long_list[0::2] = [0]*50\n",
    "print(long_list)"
   ]
  },
  {
   "cell_type": "code",
   "execution_count": null,
   "metadata": {},
   "outputs": [],
   "source": []
  }
 ],
 "metadata": {
  "kernelspec": {
   "display_name": "Python 3",
   "language": "python",
   "name": "python3"
  },
  "language_info": {
   "codemirror_mode": {
    "name": "ipython",
    "version": 3
   },
   "file_extension": ".py",
   "mimetype": "text/x-python",
   "name": "python",
   "nbconvert_exporter": "python",
   "pygments_lexer": "ipython3",
   "version": "3.5.2"
  }
 },
 "nbformat": 4,
 "nbformat_minor": 2
}
