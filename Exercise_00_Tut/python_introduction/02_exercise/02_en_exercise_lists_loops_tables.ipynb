{
 "cells": [
  {
   "cell_type": "markdown",
   "metadata": {},
   "source": [
    "_This teaching material can be freely used, distributed and modified as per the [CC-BY-SA 4.0](https://creativecommons.org/licenses/by/4.0/legalcode) license._   \n",
    " _Authors: Jana Lasser (jana.lasser@ds.mpg.de), Debsankha Manik (debsankha.manik@ds.mpg.de)._  \n",
    " _This teaching material is created for the project \"Daten Lesen Lernen\", funded by Stifterverband and the Heinz Nixdorf Stiftung._"
   ]
  },
  {
   "cell_type": "markdown",
   "metadata": {},
   "source": [
    "# Exercise 2\n",
    "### Some tips\n",
    "$\\rightarrow$ You should take a look at the exercises at home and try to solve as many tasks as you can. In the tutorials you could go on with solving the tasks you could not finish at home and if necessary, ask for help from the tutors. \n",
    "\n",
    "$\\rightarrow$ You you encounter an error:\n",
    "1. _Read_ and _understand_ the error message. \n",
    "2. Try to find out the solution to the problem ($\\rightarrow$ this may be hard at the beginning, but it is very educational!)\n",
    "3. Search using a search engine for the problem (hint: Stackoverflow) or ask your neighbour!\n",
    "4. Ask the tutors.\n",
    "\n",
    "$\\rightarrow$ Look out for the sign <font color='green'>**HINT**</font>: these are hints that helps you with solving the task and sometimes additional information regarding the task. \n",
    "\n",
    "$\\rightarrow$ Tasks marked **(Optional)** are for those of you who are extra fast :-)."
   ]
  },
  {
   "cell_type": "markdown",
   "metadata": {},
   "source": [
    "### Lists, loops and tables\n",
    "1. **Lists and loops**  \n",
    "  1. Create a list cnsisting of words (strings) that make up a sentence.\n",
    "  2. By iterating over the list with a ```for``` loop, print each word.\n",
    "  3. By iterating over the list with a ```for``` loop, add all the strings in the list together into a longer string.  \n",
    "      <font color='green'>**HINT**: You need to create a variable before the ```for``` loop, where the total string will be stored.</font>\n",
    "  4. Create a list with integers from 1 to 10 (including both 1 and 10). Print each element of the list. \n",
    "  5. Print only the odd numbers of the list, then print only the even numbers. Print only the first 4 elements, then only the last four. \n",
    "2. **Tables**\n",
    "  1. Read the table \"titanic.csv\" using the function ```read_csv()``` from the python library ```Pandas``` into a DataFrame. <font color='green'>**HINT:** You can download the \"titanic.csv\" file from the StudIP folder for this exercise (02 Übung). Then you need to upload the .csv file to JupyterHub using the ```Upload``` button (in the dashboard direct beside ```new```). It is advisable that you create a new folder called `data` and this data (alongwith all the datasets you will use in future) in that folder. To import a library (e.g. pandas), you have to import it using the `import` keyword.</font>\n",
    "  2. Display the first few rows in the table. Find out how many rows the table has. <font color='green'>**HINWEIS:** Use the funktions ```head()``` und ```len()```.</font>\n",
    "  3. Find out what each column of the table means. The column ```age``` is straightforward, but what does the ```sibsp``` column contain?\n",
    "  4. Compute the average ticket price the passengers paid.\n",
    "  5. **(Optional):** How many passengers survived?\n",
    "  6. **(Optional):** Create a list containing integers between 0 und 100 using the ```range()``` funktion and the ```list()``` function. Print the length of the list (use ```len()```). <font color='green'>**HINT**: When creating lists in this way, you _need_ to use the ```list()``` function on the object created by the ```range()``` function. This is because ```range()``` creates only a so-called \"Generator\", that then _can_ be converted into a list. Subsequent application of the ```list()``` function will convert the generator to a proper list. You can check that all these are happening by inspecting the result of each function using the ```type()``` function.</font> "
   ]
  },
  {
   "cell_type": "code",
   "execution_count": 1,
   "metadata": {},
   "outputs": [
    {
     "name": "stdout",
     "output_type": "stream",
     "text": [
      "<class 'range'>\n",
      "<class 'list'>\n"
     ]
    }
   ],
   "source": [
    "generator = range(0,5)\n",
    "print(type(generator))\n",
    "\n",
    "new_list = list(generator)\n",
    "print(type(new_list))"
   ]
  },
  {
   "cell_type": "markdown",
   "metadata": {},
   "source": [
    "<font color='green'>This behaviour is not so important right now, we mention it here for sake of completeness.</font>\n",
    "\n",
    "G. **(Optional)** Create a list with 5 numbers of choice. Iterate over the list and add to each element, the sum of all the elements in the list. Store the result in a new list.  \n",
    "    <font color='green'>**HINT**: The function ```sum()``` automatically computes the sum of a list. Creating a new empty list and appending elements at the end of it works as follows:</font>"
   ]
  },
  {
   "cell_type": "code",
   "execution_count": 2,
   "metadata": {},
   "outputs": [
    {
     "name": "stdout",
     "output_type": "stream",
     "text": [
      "[]\n",
      "[2]\n"
     ]
    }
   ],
   "source": [
    "# HINT\n",
    "# a new list creation\n",
    "new_list = []\n",
    "print(new_list)\n",
    "\n",
    "# appending an element to the new list\n",
    "new_list.append(2)\n",
    "print(new_list)"
   ]
  },
  {
   "cell_type": "markdown",
   "metadata": {},
   "source": [
    "H. **(Optional)** Set every second element of the list in task F to zero, using a slice-operator.  \n",
    "\n",
    "  <font color='green'>**HINT 1**: A single element of a list can be modified as follows:</font>"
   ]
  },
  {
   "cell_type": "code",
   "execution_count": 3,
   "metadata": {},
   "outputs": [
    {
     "name": "stdout",
     "output_type": "stream",
     "text": [
      "[1, 2, 3, 4, 5]\n",
      "[1, 2, 100, 4, 5]\n"
     ]
    }
   ],
   "source": [
    "# create a new list and print it\n",
    "test_list = [1,2,3,4,5]\n",
    "print(test_list)\n",
    "\n",
    "# set the element at index 2 to 100\n",
    "test_list[2] = 100\n",
    "print(test_list)"
   ]
  },
  {
   "cell_type": "markdown",
   "metadata": {},
   "source": [
    "<font color='green'>**HINT 2**: A list with repeated elements can be created as follows:</font>"
   ]
  },
  {
   "cell_type": "code",
   "execution_count": 4,
   "metadata": {},
   "outputs": [
    {
     "name": "stdout",
     "output_type": "stream",
     "text": [
      "[0, 0, 0, 0, 0]\n",
      "[1, 2, 1, 2, 1, 2]\n",
      "[1, 2, 3, 4, 5, 1, 2, 3, 4, 5]\n"
     ]
    }
   ],
   "source": [
    "# \"multiplying\"  a list with a whole number n creates a\n",
    "# list with the original list repeated n times\n",
    "\n",
    "# a list with a single element repeated 5 times\n",
    "new_list = [0] * 5 \n",
    "print(new_list)\n",
    "\n",
    "# a list with two elements repeated 3 times\n",
    "new_list = [1, 2] * 3 \n",
    "print(new_list)\n",
    "\n",
    "# a list with 5 elements repeated twice\n",
    "new_list = [1, 2, 3, 4, 5] * 2\n",
    "print(new_list)"
   ]
  }
 ],
 "metadata": {
  "kernelspec": {
   "display_name": "Python 3",
   "language": "python",
   "name": "python3"
  },
  "language_info": {
   "codemirror_mode": {
    "name": "ipython",
    "version": 3
   },
   "file_extension": ".py",
   "mimetype": "text/x-python",
   "name": "python",
   "nbconvert_exporter": "python",
   "pygments_lexer": "ipython3",
   "version": "3.5.2"
  }
 },
 "nbformat": 4,
 "nbformat_minor": 2
}
