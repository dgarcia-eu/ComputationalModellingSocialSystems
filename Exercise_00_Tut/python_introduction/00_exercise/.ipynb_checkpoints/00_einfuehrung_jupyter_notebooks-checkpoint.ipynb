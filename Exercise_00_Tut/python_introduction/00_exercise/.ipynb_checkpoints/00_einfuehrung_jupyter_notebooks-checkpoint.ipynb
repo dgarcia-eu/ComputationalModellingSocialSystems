{
 "cells": [
  {
   "cell_type": "markdown",
   "metadata": {},
   "source": [
    "_Das folgende Lehrmaterial kann unter einer [CC-BY-SA 4.0](https://creativecommons.org/licenses/by/4.0/legalcode) Lizenz frei verwendet, verbreitet und modifiziert werden._   \n",
    " _Authoren: Jana Lasser (jana.lasser@ds.mpg.de), Benjamin Säfken (benjamin.saefken@wiwi.uni-goettingen.de)._  \n",
    " _Das Lehrmaterial wurde im Zuge des Projektes \"Daten Lesen Lernen\", gefördert vom Stifterverband und der Heinz Nixdorf Stiftung erstellt._"
   ]
  },
  {
   "cell_type": "markdown",
   "metadata": {},
   "source": [
    "<a name=\"top\"></a>Einführung Jupyter-Notebooks\n",
    "===\n",
    "\n",
    "* [Warum Jupyter-Notebooks?](#warumnotebooks)\n",
    "* [Wie benutzt man Jupyter-Notebooks?](#wienotebooks)\n",
    "    * [Das Dashboard](#dashboard)\n",
    "    * [Der modale Editor](#editor)\n",
    "    * [Zelltypen](#zelltypen)\n",
    "    * [Markdown in Text-Zellen](#markdown)\n",
    "    * [Die wichtigsten Kommandos](#kommandos)\n",
    "    * [Zusammenfassung & Übung](#zusammenfassung)\n",
    "\n",
    "### Lernziel\n",
    "Im Verlauf der Vorlesung \"Daten Lesen Lernen\" werden wir [Jupyter-Notebooks](https://jupyter.org/) sowohl als Lehrmaterial als auch als Werkzeug für die Bearbeitung von Aufgaben in den Tutorien einsetzen. Mit dieser kurzen Lerneinheit möchten wir Sie darauf vorbereiten, wie man Jupyter-Notebooks zum Programmieren mit Python einsetzt.\n",
    "Am Ende dieser Lerneinheit sollt ihr\n",
    "* mit dem Aufbau von Notebooks vertraut sein,\n",
    "* selbstständig ein neues Notebook anlegen können und\n",
    "* zwischen verschiedenen Zelltypen unterscheiden und umschalten können.\n",
    "\n",
    "<a name=\"warumnotebooks\"></a>Warum Jupyter-Notebooks?\n",
    "---\n",
    "Ein Jupyter-Notebook ist eine einfache Programmierumgebung, die es erlaubt, strukturierten Text (Überschriften, Tabellen, Formeln...) mit Abbildungen und ausführbarem Code zu vermischen. Das ist beispielsweise [in diesem Notebook](https://ocefpaf.github.io/python4oceanographers/blog/2015/07/13/interactive_geo/) für eine Anwendung aus den Geowissenschaften illustriert. Zwei große Vorteile liegen darin dass\n",
    "* die Programmierumgebung von uns zentral und homogen vorgehalten werden kann (Einrichten auf den PCs der Studierenden entfällt, ein Browser reicht zur Benutzung) und\n",
    "* dass die Unterrichtsmaterialien selbst von den Studierenden direkt adaptierbar und weiterverwendbar sind.\n",
    "\n",
    "Wir erhoffen uns, dass mit diesem Werkzeug selbst Studierende ohne jegliche Vorerfahrung mit Programmierung einen leichten Einstieg finden und gelernte Konzepte direkt ausprobieren können.\n",
    "\n",
    "[Anfang](#top)"
   ]
  },
  {
   "cell_type": "markdown",
   "metadata": {},
   "source": [
    "<a name=\"wienotebooks\"></a>Wie benutzt man ein Jupyter-Notebook?\n",
    "---\n",
    "\n",
    "<a name=\"dashboard\"></a> **Das Dashboard**\n",
    "\n",
    "Das \"Dashbboard\" ist das Heimverzeichnis des Jupyter Notebooks. Zum Dashboard gelangt man durch Klick auf das \"Jupyter\" Logo in der linken oberen Ecke. Dort kann man andere Notebooks öffnen und neue erstellen. Sie können ein neues Notebook erstellen durch\n",
    "* klick auf \"new\" im Dashboard oben rechts,\n",
    "* als Sprache \"Python 3\" auswählen und\n",
    "* dem Notebook durch klick in den Schriftzug \"untitled\" einen neuen Namen geben.\n",
    "\n",
    "<a name=\"editor\"></a> **Der modale Editor**\n",
    "\n",
    "Das Jupyter Notebook ist ein sogenannter _modaler Editor_. Es kennt zwei Modi: \n",
    "* den **Edit Mode** zum Schreiben _innerhalb_ von Zellen und \n",
    "* den **Command Mode** zum Bearbeiten von Zellblöcken. \n",
    "\n",
    "Der **Edit Mode** ist durch die <font color='green'>_grüne_</font>, der **Command Mode** durch die <font color='blue'>_blaue_</font> Zellumrandung erkennbar.\n",
    "\n",
    "Um zwischen den Modi zu wechseln:\n",
    "* **Edit Mode**: drücke ```Enter``` oder klicke *in* eine Zelle\n",
    "* **Command Mode**: drücke ```Esc``` oder klicke _neben_ die Zelle\n",
    "\n",
    "<a name=\"zelltypen\"></a> **Zell-Typen**\n",
    "\n",
    "Ein Jupyter-Notebook kennt _Zellen_ mit verschiedenen Inhalten:\n",
    "* strukturierter **Text**, auch \"Markdown\" genannt. Dieser enthält Überschriften, Fließtext, Listen etc.\n",
    "* und **Code** (erkennbar an dem ```In [1]:``` vor der Zelle und dem hellgrauen Zellhintergrund)."
   ]
  },
  {
   "cell_type": "code",
   "execution_count": null,
   "metadata": {},
   "outputs": [],
   "source": [
    "# Beispiel einer Code-Zelle\n",
    "# tippen Sie bitte SHIFT+ENTER, um mich auszuführen\n",
    "a = 10\n",
    "print(a)"
   ]
  },
  {
   "cell_type": "markdown",
   "metadata": {},
   "source": [
    "Um den Typ des Inhalts einer Zelle zu wechseln:\n",
    "* **Code**: tippen Sie ```y``` (im Command Mode) oder klicken Sie im Menü oben _Cell_ $\\rightarrow$ _Cell Type_ $\\rightarrow$ _Code_\n",
    "* **Text**: tippen Sie ```m``` (im Command Mode) oder klicken Sie im Menü _Cell_ $\\rightarrow$ _Cell Type_ $\\rightarrow$ _Markdown_\n",
    "\n",
    "[Anfang](#top)\n",
    "\n",
    "<a name=\"markdown\"></a> **Markdown in Text-Zellen**  \n",
    "\n",
    "Text-Zellen erlauben eine _strukturierte_ Darstellung von Text mit Überschriften, Listen, Tabellen und sogar mathematischen Formeln. Um Text zu strukturieren, wird der Text mit Kontrollelementen versehen versehen. Um z.B. eine Überschrift zu erstellen, wird vor den Text ein oder mehrere Raute-Zeichen (```#```) gestellt. Ähnlich den Code-Zellen wird die Text-Zelle \"ausgeführt\" und verwandelt sich dadurch in schön formatierten Text. Im _edit_-Mode kann der Text wieder modifiziert werden. Viele hilfreiche Markdown-Kommands sind [hier](https://github.com/adam-p/markdown-here/wiki/Markdown-Cheatsheet) aufgelistet.\n",
    "\n",
    "<a name=\"kommandos\"></a> **Die wichtigsten Kommandos**\n",
    "\n",
    "\n",
    "Alle Kommandos können mit der Maus in der Toolbar (oben) angeklickt werden. Trotzdem lohnt es sich 4-5 Tastenkürzel zu kennen, , da dies die Arbeit mit diesem Werkzeug um einiges effizienter macht. Die wichtigsten sind:\n",
    "* Im <font color='blue'>**command Mode**</font>:\n",
    "    * ```h``` für eine Liste der Kommandos\n",
    "    * ```a``` und ```b``` für neue Zelle über/unter der ausgewählten Zelle\n",
    "    * ```d-d``` um die ausgewählte Zelle zu löschen (zum Wiederherstellen, klicken Sie im Menü oben _Edit_ $\\rightarrow$  _Undo Delete Cells_)\n",
    "    * ```shift-enter``` um die ausgewählte Zelle auszuführen \n",
    "    \n",
    "    \n",
    "* Im <font color='green'>**edit Mode**</font>:\n",
    "    * ```tab``` für Textvervollständigung\n",
    "    * ```ctrl-c``` zum Kopieren von Inhalten in einer Zelle\n",
    "    * ```ctrl-v``` zum Einfügen von Inhalten in einer Zelle\n",
    "    * ```ctrl-z``` um die letzte Aktion rückgängig zu machen"
   ]
  },
  {
   "cell_type": "markdown",
   "metadata": {},
   "source": [
    "<a name=\"zusammenfassung\"></a> **Zusammenfassung & Übung**\n",
    "\n",
    "Jupyter-Notebooks sind eine Mischung aus Dokument und Programmierumgebung. In einem Notebook lassen sich strukturierter Text und ausführbarer Code vermischt darstellen. Die Funktion innerhalb eines Notebooks wird am besten durch ein paar einfache Tastenkürzel gesteuert. Notebooks lassen sich wie Dateien im Dashboard verwalten. "
   ]
  },
  {
   "cell_type": "markdown",
   "metadata": {},
   "source": [
    "  1. Navigieren Sie zum Dashboard (am besten Rechtsklick auf das Jupyter Logo $\\rightarrow$ \"in neuem Tab öffnen\")\n",
    "  2. Erstellen Sie ein neues Notebook für die Übung\n",
    "  3. Geben Sie dem Notebook einen bezeichnenden Namen (z.B.) \"Uebung01\".\n",
    "  4. **(Optional)** Kopieren Sie ein Stück Beispielcode aus der [Matplotlib Gallerie](https://matplotlib.org/2.1.1/gallery/index.html) in das neu erstellte Notebook, führen Sie den Code aus und versuchen sie, den Code zu modifizieren um die Abbildung zu modifizieren."
   ]
  },
  {
   "cell_type": "markdown",
   "metadata": {},
   "source": [
    "[Anfang](#top)"
   ]
  }
 ],
 "metadata": {
  "jupytext": {
   "formats": "ipynb,py:light",
   "text_representation": {
    "extension": ".py",
    "format_name": "light",
    "format_version": "1.4",
    "jupytext_version": "1.1.0"
   }
  },
  "kernelspec": {
   "display_name": "Python 3 (ipykernel)",
   "language": "python",
   "name": "python3"
  },
  "language_info": {
   "codemirror_mode": {
    "name": "ipython",
    "version": 3
   },
   "file_extension": ".py",
   "mimetype": "text/x-python",
   "name": "python",
   "nbconvert_exporter": "python",
   "pygments_lexer": "ipython3",
   "version": "3.8.10"
  }
 },
 "nbformat": 4,
 "nbformat_minor": 2
}
