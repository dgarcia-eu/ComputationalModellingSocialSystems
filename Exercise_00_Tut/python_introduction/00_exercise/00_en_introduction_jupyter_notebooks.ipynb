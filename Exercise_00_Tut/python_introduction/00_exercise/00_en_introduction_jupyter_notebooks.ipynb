{
 "cells": [
  {
   "cell_type": "markdown",
   "metadata": {},
   "source": [
    "_This teaching material can be freely used, distributed and modified as per the [CC-BY-SA 4.0](https://creativecommons.org/licenses/by/4.0/legalcode) license._   \n",
    " _Authors: Jana Lasser (jana.lasser@ds.mpg.de), Benjamin Säfken (benjamin.saefken@wiwi.uni-goettingen.de), Debsankha Manik (debsankha.manik@ds.mpg.de)._  \n",
    " _This teaching material is created for the project \"Daten Lesen Lernen\", funded by Stifterverband and the Heinz Nixdorf Stiftung._"
   ]
  },
  {
   "cell_type": "markdown",
   "metadata": {},
   "source": [
    "<a name=\"top\"></a>Introduction to Jupyter Notebooks\n",
    "===\n",
    "\n",
    "* [Why Jupyter notebooks?](#warumnotebooks)\n",
    "* [How to use Jupyter notebooks?](#wienotebooks)\n",
    "    * [The dashboard](#dashboard)\n",
    "    * [The modal Editor](#editor)\n",
    "    * [Cell types](#zelltypen)\n",
    "    * [Markdown in Text cells](#markdown)\n",
    "    * [Important commands](#kommandos)\n",
    "    * [Summary and exercise](#zusammenfassung)\n",
    "\n",
    "### The Goal\n",
    "During the course \"Daten Lesen Lernen\" we will use  [Jupyter notebooks](https://jupyter.org/) as teaching resources as well as as the tool of choice for working on the tasks for the tutorials. In the following, we would like to get you ready for working with Jupyter notebooks for programming in python.\n",
    "When you are finished, you will be:\n",
    "* familiar with the structure of a notebook,\n",
    "* able to create a new notebook and\n",
    "* distinguish between different cell types and switch between them.\n",
    "\n",
    "<a name=\"warumnotebooks\"></a>Why Jupyter notebooks?\n",
    "---\n",
    "A Jupyter notebook is a simple programming environment that allows the user to put together in a single file structured text (with headings, tables, formulae...), visualizations as well as executable code. For example, [this notebook](https://ocefpaf.github.io/python4oceanographers/blog/2015/07/13/interactive_geo/) illustrates an use case for geosciences. Two great advantages for this are\n",
    "* we can administer the programming environment centrally and homogeneously (no need to install software on each of your PC, a modern browser is enough) and\n",
    "* you can directly modify and extend the teaching material any way you wish. \n",
    "\n",
    "We hope that this toolbox will provide those of you who have no prior experience of programming an easy entry point to learn it, as well as try out newly learnt concepts very easily.\n",
    "\n",
    "[Top](#top)"
   ]
  },
  {
   "cell_type": "markdown",
   "metadata": {},
   "source": [
    "<a name=\"wienotebooks\"></a>How to use a Jupyter notebook?\n",
    "---\n",
    "\n",
    "<a name=\"dashboard\"></a> **The Dashboard**\n",
    "\n",
    "The \"Dashbboard\" is the index of the Jupyter notebooks. Clicking on the \"Jupyter\" logo at the upper left corner brings us to the dashboard. Here you can open existing notebooks and create new ones. To create a new notebook:\n",
    "* click on \"New\" in the dashboard at upper right corner,\n",
    "* choose language \"Python 3\",\n",
    "* give the notebook a name by clicking on the text field that reads \"Untitled\" on upper left.\n",
    "\n",
    "<a name=\"editor\"></a> **The modal Editor**\n",
    "\n",
    "The Jupyter notebook has a so-called _modal editor_. It understands two modes: \n",
    "* the **Edit Mode** to write _inside_ the cells and \n",
    "* the **Command Mode** to work with a cell or a group of cells. \n",
    "\n",
    "A   <font color='green'>_green_</font> border around a cell denotes that we are in **Edit Mode**, and a <font color='blue'>_blue_</font> border means we are in **Command Mode**.\n",
    "\n",
    "To switch between these two modes:\n",
    "* **Edit Mode**: press ```Enter``` or click *inside* a cell.\n",
    "* **Command Mode**: press ```Esc``` or click _outside_ the cells.\n",
    "\n",
    "<a name=\"zelltypen\"></a> **Cell types**\n",
    "\n",
    "A Jupyter notebook understands _cells_ with different types of content:\n",
    "* so called **Markdown cells**: they contain structured **Text**, in a format called \"Markdown\". Apart from normal text, such a cell may contain headings, lists, tables etc. \n",
    "*  **Code cells** (distinguishable by the ```In [1]:``` at the left of the cell and the light gray background. "
   ]
  },
  {
   "cell_type": "code",
   "execution_count": null,
   "metadata": {},
   "outputs": [],
   "source": [
    "# Example of a code cell\n",
    "# Execute me by pressing `SHIFT+ENTER`.\n",
    "a = 10\n",
    "print(a)"
   ]
  },
  {
   "cell_type": "markdown",
   "metadata": {},
   "source": [
    "Here's how you can switch between the two cell types:\n",
    "* **Code**: press ```y``` (in command mode) or click on the menu bar at the top: _Cell_ $\\rightarrow$ _Cell Type_ $\\rightarrow$ _Code_\n",
    "* **Text**: press ```m``` (in command mode) or  click on the menu bar at the top: _Cell_ $\\rightarrow$ _Cell Type_ $\\rightarrow$ _Markdown_\n",
    "\n",
    "[Top](#top)\n",
    "\n",
    "<a name=\"markdown\"></a> **Markdown in text cells**  \n",
    "\n",
    "Text cells allows us to write *structured* text with headings, lists, tables and mathematical formulae. To add structure to our text, we need to augment it with additional *formatting*. For example, to create a heading, we need to add a ```# ``` (pound symbol followed by a space) before the header text. Similar to code cells, a markdown cell can also be *executed* by pressing `SHIFT+ENTER`. When we do that, the text will be *formatted* nicely. At this point, the notebook will switch to _command_ mode. To edit the text again, we need to switch to _edit_ mode. Many useful markdown commands are listed [here](https://github.com/adam-p/markdown-here/wiki/Markdown-Cheatsheet).\n",
    "\n",
    "<a name=\"kommandos\"></a> **The important commands**\n",
    "\n",
    "\n",
    "All commands can be executed by clicking with the mouse on the toolbar at the top. Nevertheless, it is useful to learn a few keyboard shortcuts in order to make one's life easier while working with Jupyter notebooks. The most important of these shortcuts are:\n",
    "* In <font color='blue'>**command Mode**</font>:\n",
    "    * ```h``` to get a list of shortcuts. \n",
    "    * ```a``` and ```b``` to insert a new cell above/below the current cell. \n",
    "    * ```d-d``` to delete the selected cell (to *undelete* a cell, click on the menu bar _Edit_ $\\rightarrow$  _Undo Delete Cells_). \n",
    "    * ```shift-enter``` to execute the selected cell. \n",
    "    \n",
    "    \n",
    "* In <font color='green'>**edit Mode**</font>:\n",
    "    * ```tab``` for text completion.\n",
    "    * ```ctrl-c``` to copy the content of a cell. \n",
    "    * ```ctrl-v``` to paste as content of a cell. \n",
    "    * ```ctrl-z``` to undo the last action."
   ]
  },
  {
   "cell_type": "markdown",
   "metadata": {},
   "source": [
    "<a name=\"zusammenfassung\"></a> **Summary and exercise**\n",
    "\n",
    "A Jupyter notebooks is a mixture of a document and a programming environment. One can store structured text and executable code together in a notebook. A few keyboard shortcuts makes ones life easier while working with notebooks. The dashboard lists all notebooks, just like a PC's file browser lists the files in a directory. "
   ]
  },
  {
   "cell_type": "markdown",
   "metadata": {},
   "source": [
    "  1. Navigate to the dashboard (preferably by right clicking on the Jupyter logo $\\rightarrow$ \"Open Link in New Tab\")\n",
    "  2. Create a new notebook as an exercise. \n",
    "  3. Give the notebook a proper name (e.g.) \"exercise01\".\n",
    "  4. **(Optional)** Copy a few example code from the [Matplotlib Gallerie](https://matplotlib.org/2.1.1/gallery/index.html) in the new notebook, execute the code cells (`SHIFT+ENTER`) and try to modify some bits to change the generated plots."
   ]
  },
  {
   "cell_type": "markdown",
   "metadata": {},
   "source": [
    "[Top](#top)"
   ]
  }
 ],
 "metadata": {
  "jupytext": {
   "formats": "ipynb,py:light",
   "text_representation": {
    "extension": ".py",
    "format_name": "light",
    "format_version": "1.4",
    "jupytext_version": "1.1.0"
   }
  },
  "kernelspec": {
   "display_name": "Python 3",
   "language": "python",
   "name": "python3"
  },
  "language_info": {
   "codemirror_mode": {
    "name": "ipython",
    "version": 3
   },
   "file_extension": ".py",
   "mimetype": "text/x-python",
   "name": "python",
   "nbconvert_exporter": "python",
   "pygments_lexer": "ipython3",
   "version": "3.5.2"
  }
 },
 "nbformat": 4,
 "nbformat_minor": 2
}
