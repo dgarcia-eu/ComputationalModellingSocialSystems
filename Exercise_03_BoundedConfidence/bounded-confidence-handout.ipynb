{
 "cells": [
  {
   "cell_type": "markdown",
   "id": "ceb250dd",
   "metadata": {},
   "source": [
    "# Mesa opinion dynamics example - Bounded confidence model\n",
    "\n",
    "## Description\n",
    "\n",
    "We present a model of opinion dynamics where agents adjust continuous opinions on the occasion of random binary encounters whenever their difference in opinion is below a given threshold. High thresholds yield convergence of opinions towards an average opinion, but low thresholds result in several opinion clusters: members of the same cluster share the same opinion but do not adjust any more with members of other clusters.\n",
    "\n",
    "What would happen if opinion were a continuous variable such as the worthiness of a choice (a utility in economics), or some belief about adjustment of a control parameter?\n",
    "\n",
    "The purpose of this model is to present results about continuous opinion dynamics when convergent opinion adjustments only proceed when opinion difference is below a given threshold.\n",
    "\n",
    "The rationale for the threshold condition is that agents only interact when their opinion are already close enough; otherwise they do not even bother to discuss. The reason for such behaviour might be for instance lack of understanding, conflicts of interest or social pressure. Although there is no reason to suppose that openness to discussion, here represented by threshold , is constant across population or even symmetrical on the occasion of a binary encounter, we will allways take it as a constant simulation parameter in the present model.\n",
    "\n",
    "The analytical solution (possible for small values of the treshold d) implies that starting from an initial distribution of opinions in the population, any local higher opinion density is amplified. Peaks of opinions increase and valleys are depleted until very narrow peaks remains among a desert of intermediate opinions.\n",
    "\n",
    "## Sample Model Description\n",
    "\n",
    "The excercise model is a very simple simulated agent threshold model. The aim of the formal model presented here is the same: to predict, from the initial threshold values, the ultimate number of opinion groups. Mathematically, the question is one of finding an equilibrium in a process occurring over time.\n",
    "\n",
    "We will explore models concerning:\n",
    "\n",
    "- Homogeneous mixing across the whole population\n",
    "- Mixing across a social network (visualized in the Appendix)\n",
    "\n",
    "The rules of our tutorial model:\n",
    "\n",
    "1. Start with a population of $N$ agents with $i$ continuous opinions $x_{i}$ (e.g., N = 100)\n",
    "     - convergence parameter $\\mu$ [0, 0.5] (e.g., mu = 0.5)\n",
    "     - opinion difference threshold $d$ (e.g., d = 0.5)\n",
    "2. Initially opinions are randomly generated across a **uniform distribution** on [0, 1]\n",
    "3. At each time step any two randomly chosen agents meet (from the list of all agents). \n",
    "4. They re-adjust their opinion when their difference of opinion is smaller in magnitude than a threshold $d$.\n",
    "5. Opinions are then adjusted according to the formula:\n",
    "    - $x=x+\\mu\\cdot(x'-x)$\n",
    "    - $x'=x'+\\mu\\cdot(x-x')$\n",
    "\n",
    "Despite its simplicity, this model yields results that are often unexpected to those not familiar with it. \n",
    "The model is filled with a large majority of agents which have reached consensus around x = 0.5 apart from isolated agents which have “extremists” opinions closer to 0 or 1: the importance of extremists is the most noticeable difference with the full mixing case where such 'wings' can apear.\n",
    "\n",
    "## How to use and modify the code\n",
    "\n",
    "These excercises are designed around a Mesa template that is given to you to reuse. You are not asked to perform any complex object programming, but instead we ask for understanding of the core features of the Mesa pyhton package. You will mostly have to modifly the existing template and code the ``Model`` and ``Agent``behavior using standard python code.\n",
    "\n",
    "**Therefore, in this excercise, you are asked to fill your code where the comments state:**\n",
    "\n",
    "``#[Your code here]``\n",
    "\n",
    "Let’s get started."
   ]
  },
  {
   "cell_type": "markdown",
   "id": "8063be84",
   "metadata": {},
   "source": [
    "# 1. Create the Basic Agent/Model"
   ]
  },
  {
   "cell_type": "markdown",
   "id": "73e19877",
   "metadata": {},
   "source": [
    "## Setting up the model\n",
    "\n",
    "To begin writing the model code, we start with two core classes: one for\n",
    "the overall model, the other for the agents. The model class holds the\n",
    "model-level attributes, manages the agents, and generally handles the\n",
    "global level of our model. Each instantiation of the model class will be\n",
    "a specific model run. Each model will contain multiple agents, all of\n",
    "which are instantiations of the agent class. Both the model and agent\n",
    "classes are child classes of Mesa’s generic ``Model`` and ``Agent``\n",
    "classes.\n",
    "\n",
    "### At the location ``# 1 Initialization [Your code here]`` you have to implement:\n",
    "\n",
    "Each agent has only one unique parameter:\n",
    "- opinion - an agent's initial opinion which will change during the simulation\n",
    "\n",
    "(Each agent will also have a unique identifier (i.e., a sequence position), stored in the ``unique_id`` variable. Giving each agent a unique id is a good practice when doing agent-based modeling.)\n",
    "\n",
    "**Note:** Agents should also use the convergence parameter $\\mu$ and the opinion difference threshold $d$, but they are constants and can be set once in the model for the whole simulation (and subsequently accessed through e.g., `self.model.convergence`).\n",
    "\n",
    "### At the location ``# 2 Step agent function`` you have to implement:\n",
    "\n",
    "- This is the step function of your agent\n",
    "\n",
    "### At the location ``# 3 Randomly chose agent [Your code here]`` you have to implement:\n",
    "\n",
    "- Get a list of all scheduled agents\n",
    "- Select one random agent from the list to interact with\n",
    "\n",
    "### At the location ``# 4 Evaluate agents difference of opinion [Your code here]`` you have to implement:\n",
    "\n",
    "- Calculate the **absolute** difference between opinion of the agents in question\n",
    "\n",
    "### At the location ``# 5 Re-adjust agents opinions [Your code here]`` you have to implement:\n",
    "\n",
    "- Recalculate both agents' opinions based on the opinion adjustment formula given above, but only if their difference in opinion is lower then the treshold $d$"
   ]
  },
  {
   "cell_type": "code",
   "execution_count": null,
   "id": "cf306600",
   "metadata": {},
   "outputs": [],
   "source": [
    "from mesa import Model, Agent\n",
    "from mesa.time import RandomActivation"
   ]
  },
  {
   "cell_type": "code",
   "execution_count": null,
   "id": "774b1f84",
   "metadata": {},
   "outputs": [],
   "source": [
    "class BoundedConfidenceAgentBasic(Agent):\n",
    "    \n",
    "    def __init__(self, unique_id, opinion, model):\n",
    "        '''\n",
    "         Create a new bounded confidence agent.\n",
    "\n",
    "         Args:\n",
    "            unique_id: Unique identifier for the agent\n",
    "            opinion: An agent's initial opinion\n",
    "        '''\n",
    "        \n",
    "        super().__init__(unique_id, model)\n",
    "        \n",
    "        # 1 Initialization [Your code here]\n",
    "        \n",
    "        \n",
    "    def step(self):\n",
    "        '''\n",
    "        Run one step of the agent.\n",
    "        '''\n",
    "        \n",
    "        # 2 Step agent function\n",
    "        \n",
    "        # 3 Randomly chose agent [Your code here]\n",
    "        \n",
    "        \n",
    "        # 4 Evaluate agents difference of opinion [Your code here]\n",
    "        \n",
    "        \n",
    "        # 5 Re-adjust agents opinions [Your code here]\n",
    "        \n"
   ]
  },
  {
   "cell_type": "markdown",
   "id": "24aa644a",
   "metadata": {},
   "source": [
    "## Adding the scheduler\n",
    "\n",
    "Time in most agent-based models moves in steps, sometimes also called\n",
    "**ticks**. At each step of the model, one or more of the agents –\n",
    "usually all of them – are activated and take their own step, changing\n",
    "internally and/or interacting with one another or the environment.\n",
    "\n",
    "The **scheduler** is a special model component which controls the order\n",
    "in which agents are activated. For example, all the agents may activate\n",
    "in the same order every step; their order might be shuffled; we may try\n",
    "to simulate all the agents acting at the same time; and more. Mesa\n",
    "offers a few different built-in scheduler classes, with a common\n",
    "interface. That makes it easy to change the activation regime a given\n",
    "model uses, and see whether it changes the model behavior. This may not\n",
    "seem important, but scheduling patterns can have an impact on your\n",
    "results.\n",
    "\n",
    "For now, let’s use one of the simplest ones: ``RandomActivation``, which\n",
    "activates all the agents once per step, in random order. Every agent is\n",
    "expected to have a ``step`` method. The step method is the action the\n",
    "agent takes when it is activated by the model schedule. We add an agent\n",
    "to the schedule using the ``add`` method; when we call the schedule’s\n",
    "``step`` method, the model shuffles the order of the agents, then\n",
    "activates and executes each agent’s ``step`` method.\n",
    "\n",
    "With that in mind, the model code with the scheduler added looks like\n",
    "this:"
   ]
  },
  {
   "cell_type": "markdown",
   "id": "9de46855",
   "metadata": {},
   "source": [
    "### At the location ``# 1 Initialization [Your code here]`` you have to implement:\n",
    "\n",
    "There are a number of model-level parameters:\n",
    "\n",
    "- Number of N agents\n",
    "- Opinion difference threshold\n",
    "- Convergence parameter\n",
    "- Use ``RandomActivation`` scheduler\n",
    "\n",
    "### At the location ``# 2 Create agents [Your code here]`` you have to implement:\n",
    "\n",
    "- Use **uniform random numbers** to populate the opinion of agents (you can use already given `self.random.random()`)\n",
    "- Add the created agents to the scheduler list"
   ]
  },
  {
   "cell_type": "code",
   "execution_count": null,
   "id": "9fc85506",
   "metadata": {},
   "outputs": [],
   "source": [
    "class BoundedConfidenceModelBasic(Model):\n",
    "    \n",
    "    def __init__(self, N, treshold, convergence):\n",
    "        '''\n",
    "        Create a new bounded confidence model.\n",
    "\n",
    "         Args:\n",
    "            N: how many agents the model contains\n",
    "            treshold: opinion difference threshold. Floating value from 0 to 1.\n",
    "            convergence: convergence parameter. Floating value from 0 to 0.5.\n",
    "        '''\n",
    "        \n",
    "        super().__init__()\n",
    "        \n",
    "        # 1 Initialization [Your code here]\n",
    "        \n",
    "        \n",
    "        # 2 Create agents [Your code here]\n",
    "        \n",
    "\n",
    "    def step(self):\n",
    "        '''\n",
    "        Run one step of the model. If All agents are happy, halt the model.\n",
    "        '''\n",
    "        \n",
    "        # 3 Step model function\n",
    "        \n",
    "        self.schedule.step()\n"
   ]
  },
  {
   "cell_type": "markdown",
   "id": "41b509e6",
   "metadata": {},
   "source": [
    "# 2. Run the Agent/Model Basic"
   ]
  },
  {
   "cell_type": "markdown",
   "id": "2c1181d8",
   "metadata": {},
   "source": [
    "### Running the model\n",
    "\n",
    "At this point, we have a model which runs. \n",
    "You can see for yourself with a few easy lines. If you’ve been working in an jupyter notebook session, you can create a model object directly. \n",
    "\n",
    "With that last piece in hand, it’s time for the first rudimentary run of the model.\n",
    "\n",
    "Now let’s create a model with 100 agents, and run it for 100 steps. Set the opinion difference treshold and convergence parameter of the model to the proposed ``treshold = 0.5`` and ``convergence = 0.5``."
   ]
  },
  {
   "cell_type": "markdown",
   "id": "46ec9d0a",
   "metadata": {},
   "source": [
    "### At the location ``# < Add model parameters [Your code here]`` you have to implement:\n",
    "\n",
    "- Specify all model-level parameters of its __init__ function\n",
    "- Number of agents is given already as 100\n",
    "- Specify: treshold and convergence"
   ]
  },
  {
   "cell_type": "code",
   "execution_count": null,
   "id": "58d95069",
   "metadata": {},
   "outputs": [],
   "source": [
    "model = BoundedConfidenceModelBasic(100, # < Add model parameters [Your code here] )\n",
    "\n",
    "while model.schedule.steps < 100:\n",
    "    model.step()\n",
    "                            \n",
    "print('The bounded confidence model ran for {} steps'.format(model.schedule.steps))"
   ]
  },
  {
   "cell_type": "markdown",
   "id": "328b74aa",
   "metadata": {},
   "source": [
    "# 5. Collect data to Analyze the Agent/Model"
   ]
  },
  {
   "cell_type": "markdown",
   "id": "67c521ab",
   "metadata": {},
   "source": [
    "### Collecting Data\n",
    "\n",
    "Since one of the main goals of agent-based modeling is generating data\n",
    "for analysis, Mesa provides a class which can handle data collection and\n",
    "storage for us and make it easier to analyze.\n",
    "\n",
    "The data collector stores three categories of data: model-level\n",
    "variables, agent-level variables, and tables (which are a catch-all for\n",
    "everything else). Model- and agent-level variables are added to the data\n",
    "collector along with a function for collecting them. Model-level\n",
    "collection functions take a model object as an input, while agent-level\n",
    "collection functions take an agent object as an input. Both then return\n",
    "a value computed from the model or each agent at their current state.\n",
    "When the data collector’s ``collect`` method is called, with a model\n",
    "object as its argument, it applies each model-level collection function\n",
    "to the model, and stores the results in a dictionary, associating the\n",
    "current value with the current step of the model. Similarly, the method\n",
    "applies each agent-level collection function to each agent currently in\n",
    "the schedule, associating the resulting value with the step of the\n",
    "model, and the agent’s ``unique_id``.\n",
    "\n",
    "Let’s add a DataCollector to the model, and collect two variables. At\n",
    "the agent level, we want to collect every agent’s opinion at every step.\n",
    "At the model level, let’s calculate the number of opinion groups."
   ]
  },
  {
   "cell_type": "markdown",
   "id": "68eae8b4",
   "metadata": {},
   "source": [
    "### At the location ``# Analysis code for calculating number of groups based on similar opinion values [Your code here]`` you have to implement:\n",
    "\n",
    "- Implement a function to automatically count the number of groups\n",
    "- By rounding the opinions to 2 decimal digits and counting unique values, so that you can get the number of groups after each simulation\n",
    "- **advanced** by counting the differences between agents' opinions if they are larger then some predefined epsilon value\n",
    "\n",
    "### Agent code should be the same (refer to the code above)\n",
    "\n",
    "### Model code has a ``DataCollector`` step\n",
    "\n",
    "- Note the use of ``DataCollector`` to collect the following model-level data:\n",
    "- Model's number of opinion groups (get_number_opinion_groups)\n",
    "- Agent's ``opinion`` stats\n",
    "- ``self.datacollector.collect`` data every model's ``step``"
   ]
  },
  {
   "cell_type": "code",
   "execution_count": null,
   "id": "aaa02c46",
   "metadata": {},
   "outputs": [],
   "source": [
    "def get_number_opinion_groups(model):\n",
    "    '''\n",
    "    Find the number of groups based on similar opinion values\n",
    "    '''\n",
    "    \n",
    "    return number_opinion_groups"
   ]
  },
  {
   "cell_type": "code",
   "execution_count": null,
   "id": "7de235a2",
   "metadata": {},
   "outputs": [],
   "source": [
    "class BoundedConfidenceAgentAnalysis(Agent):\n",
    "    \n",
    "    def __init__(self, unique_id, opinion, model):\n",
    "        '''\n",
    "         Create a new bounded confidence agent.\n",
    "\n",
    "         Args:\n",
    "            unique_id: Unique identifier for the agent\n",
    "            opinion: An agent's initial opinion\n",
    "        '''\n",
    "        \n",
    "        super().__init__(unique_id, model)\n",
    "        \n",
    "        # 1 Initialization [Your code here]\n",
    "        \n",
    "        \n",
    "    def step(self):\n",
    "        '''\n",
    "        Run one step of the agent.\n",
    "        '''\n",
    "        \n",
    "        # 2 Step agent function\n",
    "        \n",
    "        # 3 Randomly chose agent [Your code here]\n",
    "        \n",
    "        \n",
    "        # 4 Evaluate agents difference of opinion [Your code here]\n",
    "        \n",
    "        \n",
    "        # 5 Re-adjust agents opinions [Your code here]\n",
    "        \n"
   ]
  },
  {
   "cell_type": "code",
   "execution_count": null,
   "id": "e469a123",
   "metadata": {},
   "outputs": [],
   "source": [
    "from mesa.datacollection import DataCollector\n",
    "\n",
    "class BoundedConfidenceModelAnalysis(Model):\n",
    "    \n",
    "    def __init__(self, N, treshold, convergence):\n",
    "        '''\n",
    "        Create a new bounded confidence model.\n",
    "\n",
    "         Args:\n",
    "            N: how many agents the model contains\n",
    "            treshold: opinion difference threshold. Floating value from 0 to 1.\n",
    "            convergence: convergence parameter. Floating value from 0 to 0.5.\n",
    "        '''\n",
    "        \n",
    "        super().__init__()\n",
    "        \n",
    "        # 1 Initialization [Your code here]\n",
    "        \n",
    "        self.datacollector = DataCollector(    # < Note that we have both an agent and model data collector\n",
    "            model_reporters={\"Opinion_groups\": get_number_opinion_groups}, agent_reporters={\"Opinion\": \"opinion\"}\n",
    "        )\n",
    "        \n",
    "        # 2 Create agents [Your code here]\n",
    "\n",
    "    def step(self):\n",
    "        '''\n",
    "        Run one step of the model. If All agents are happy, halt the model.\n",
    "        '''\n",
    "        \n",
    "        # 3 Step model function\n",
    "        \n",
    "        self.datacollector.collect(self)\n",
    "        self.schedule.step()\n"
   ]
  },
  {
   "cell_type": "markdown",
   "id": "8da978ac",
   "metadata": {},
   "source": [
    "### Running the model\n",
    "\n",
    "We run the model just as we did above. Now is when an interactive\n",
    "session, especially via a Notebook, comes in handy: the DataCollector\n",
    "can export the data it’s collected as a pandas DataFrame, for easy\n",
    "interactive analysis.\n",
    "\n",
    "Now we instantiate a model instance: 100 agents, with ``treshold = 0.5`` and ``convergence = 0.5``. Run the model for 100 steps.\n",
    "\n",
    "We want to run the model until all the agents converged. However, there's no guarentee that a given model instantiation will *ever* settle down. So let's run it for 100 steps:"
   ]
  },
  {
   "cell_type": "markdown",
   "id": "cf26f59f",
   "metadata": {},
   "source": [
    "### At the location ``# < Add model parameters [Your code here]`` you have to implement:\n",
    "\n",
    "- Specify all model-level parameters of its __init__ function\n",
    "- Number of agents is given already as 100\n",
    "- Specify: treshold and convergence"
   ]
  },
  {
   "cell_type": "code",
   "execution_count": null,
   "id": "728d8071",
   "metadata": {},
   "outputs": [],
   "source": [
    "model = BoundedConfidenceModelAnalysis(100, # < Add model parameters [Your code here] )\n",
    "\n",
    "while model.schedule.steps < 100:\n",
    "    model.step()\n",
    "                            \n",
    "print('The bounded confidence model ran for {} steps'.format(model.schedule.steps))"
   ]
  },
  {
   "cell_type": "markdown",
   "id": "025fa272",
   "metadata": {},
   "source": [
    "# 6. Run the Agent/Model Analysis"
   ]
  },
  {
   "cell_type": "markdown",
   "id": "affbea41",
   "metadata": {},
   "source": [
    "Now we can get the agent-opinion data:"
   ]
  },
  {
   "cell_type": "markdown",
   "id": "d9fa0ea3",
   "metadata": {},
   "source": [
    "**It is always a good practice to validate (debug) your model with visualizing agents behavior.**\n",
    "\n",
    "### At the location ``Create a plot for the opinion state of a single agent over the model steps [Your code here]`` you have to implement:\n",
    "\n",
    "- Filter the data to select only one agent - using Pandas .xs method\n",
    "- Plot the ``Opinion`` state of that agent data you have collected\n",
    "\n",
    "### At the location ``# Create a scatter plot for the opinion state of all agents over the model steps [Your code here]`` you have to implement:\n",
    "\n",
    "- Reset the index to use `Step` column (instead of `Step` AND `AgendID`)\n",
    "- Plot the scatter plot where x is `Step` and y is `Opinion` column of that agent data you have collected"
   ]
  },
  {
   "cell_type": "code",
   "execution_count": null,
   "id": "eb6b2a59",
   "metadata": {},
   "outputs": [],
   "source": [
    "import pandas as pd\n",
    "\n",
    "agent_out = model.datacollector.get_agent_vars_dataframe()\n",
    "agent_out.head()"
   ]
  },
  {
   "cell_type": "code",
   "execution_count": null,
   "id": "6395df97",
   "metadata": {},
   "outputs": [],
   "source": [
    "# Create a plot for the opinion state of a single agent over the model steps [Your code here]\n"
   ]
  },
  {
   "cell_type": "code",
   "execution_count": null,
   "id": "8c8fda38",
   "metadata": {},
   "outputs": [],
   "source": [
    "# Create a scatter plot for the opinion state of all agents over the model steps [Your code here]\n"
   ]
  },
  {
   "cell_type": "markdown",
   "id": "18313f8e",
   "metadata": {},
   "source": [
    "## Question 1\n",
    "\n",
    "1.1 In previous steps you have visualized the bounded confidence model analysis for a high opinion difference treshold (e.g., ``treshold = 0.5``).\n",
    "Now re-run the analysis for a low opinion difference treshold (e.g., ``treshold = 0.2``) and observe the difference in proportion of converged agents over all agents.\n",
    "\n",
    "Put your code in the Answer 1.1 box below."
   ]
  },
  {
   "cell_type": "code",
   "execution_count": null,
   "id": "e46b1654",
   "metadata": {},
   "outputs": [],
   "source": [
    "# Answer 1.1 [Your code here]\n"
   ]
  },
  {
   "cell_type": "markdown",
   "id": "aa2db51d",
   "metadata": {},
   "source": [
    "1.2 Qualitatively describe what is this difference between these two outcomes and why?\n",
    "\n",
    "1.3 Do you notice polarization of opinion?\n",
    "\n",
    "**Hint:** Your plots should look similar to Figure 1 and Figure 2 in [this paper](https://www.worldscientific.com/doi/abs/10.1142/s0219525900000078).\n",
    "\n",
    "Put your text in the Answer 1.2 box below."
   ]
  },
  {
   "cell_type": "markdown",
   "id": "7097ec3c",
   "metadata": {},
   "source": [
    "## Answer 1.2 and 1.3\n",
    "\n",
    "[Your text answer here]\n"
   ]
  },
  {
   "cell_type": "markdown",
   "id": "38a2d073",
   "metadata": {},
   "source": [
    "## Question 2\n",
    "\n",
    "You have now implemented the bounded confidence model in which agents interact in random pairs with their peers. The opinions of agents are sampled from a uniform distribution and simulated the model for N = 100 agents, tolerance threshold of d = 0.2, and attraction parameter ζ = 0.5, for 100 steps.\n",
    "\n",
    "2.1 Generate at least 10 scatter plot visualizations of a simulation with these same parameters.\n",
    "\n",
    "2.2 Visualize a histogram plot of the final number of opinion groups from those 10 simulations.\n",
    "\n",
    "Put your code in the Answer 2.1 and 2.2 box below (you can create more code boxes if needed for the plots)."
   ]
  },
  {
   "cell_type": "code",
   "execution_count": 1,
   "id": "ce7b039e",
   "metadata": {},
   "outputs": [],
   "source": [
    "# Answer 2.1 and 2.2 [Your code here]\n"
   ]
  },
  {
   "cell_type": "markdown",
   "id": "61ee846f",
   "metadata": {},
   "source": [
    "2.3 Do you always get the same number of groups?\n",
    "\n",
    "2.4 What is the most typical number of groups that you get?\n",
    "\n",
    "2.5 Do you ever get consensus?\n",
    "\n",
    "2.6 Can you identify ”wings” of agents that get stuck towards the ends of the opinion scale?\n",
    "\n",
    "Put your text in the Answer 2.3, 2.4, 2.5, 2.6 box below."
   ]
  },
  {
   "cell_type": "markdown",
   "id": "e2d46756",
   "metadata": {},
   "source": [
    "## Answer 2.3, 2.4, 2.5, 2.6\n",
    "\n",
    "[Your text answer here]\n"
   ]
  },
  {
   "cell_type": "markdown",
   "id": "3429e4c2",
   "metadata": {},
   "source": [
    "# 7. Create iteration Batch of the Agent/Model"
   ]
  },
  {
   "cell_type": "markdown",
   "id": "cf309e66",
   "metadata": {},
   "source": [
    "### Batch Run\n",
    "\n",
    "Like we mentioned above, you usually won’t run a model only once, but\n",
    "multiple times, with fixed parameters to find the overall distributions\n",
    "the model generates, and with varying parameters to analyze how they\n",
    "drive the model’s outputs and behaviors. Instead of needing to write\n",
    "nested for-loops for each model, Mesa provides a ``batch_run`` function\n",
    "which automates it for you.\n",
    "\n",
    "The batch runner also requires an additional variable ``self.running``\n",
    "for the Model class. This variable enables conditional shut off of\n",
    "the model once a condition is met."
   ]
  },
  {
   "cell_type": "markdown",
   "id": "a1ff93d0",
   "metadata": {},
   "source": [
    "### At the location ``# < Add model parameters [Your code here]`` you have to implement:\n",
    "\n",
    "- Specify all model-level parameters of its __init__ function\n",
    "- Number of agents is given already as 100\n",
    "- Specify: ``convergence = 0.5`` and ``treshold`` as [0.0, 0.5, equally spaced 11 values]\n",
    "\n",
    "**Hint**: You can use ``linspace()`` method from the numpy lbrary as follows:\n",
    "\n",
    "``\n",
    "import numpy as np\n",
    "np.linspace(0.1,0.6,11)\n",
    "``"
   ]
  },
  {
   "cell_type": "code",
   "execution_count": null,
   "id": "75c43d94",
   "metadata": {},
   "outputs": [],
   "source": [
    "import numpy as np\n",
    "\n",
    "params = {\"N\": 100, # < Add model parameters [Your code here] } "
   ]
  },
  {
   "cell_type": "markdown",
   "id": "1610fad0",
   "metadata": {},
   "source": [
    "# 8. Run the Agent/Model Batch"
   ]
  },
  {
   "cell_type": "markdown",
   "id": "753def0c",
   "metadata": {},
   "source": [
    "### Running the model\n",
    "\n",
    "We call ``batch_run`` with the following arguments:\n",
    "\n",
    "* ``model_cls``\n",
    "\n",
    "  The model class that is used for the batch run.\n",
    "\n",
    "* ``parameters``\n",
    "\n",
    "  A dictionary containing all the parameters of the model class and\n",
    "  desired values to use for the batch run as key-value pairs. Each\n",
    "  value can either be fixed ( e.g. ``{\"convergence\": 0.5}``)\n",
    "  or an iterable (e.g. ``{\"treshold\": np.linspace(0.1,0.6,11)}``). ``batch_run``\n",
    "  will then generate all possible parameter combinations based on this\n",
    "  dictionary and run the model ``iterations`` times for each combination.\n",
    "\n",
    "* ``number_processes``\n",
    "\n",
    "  Number of processors used to run the sweep in parallel. Optional.\n",
    "  If not specified, defaults to use all the available processors.\n",
    "\n",
    "  Note: Multiprocessing does make debugging challenging. If your\n",
    "  parameter sweeps are resulting in unexpected errors set ``number_processes = 1``.\n",
    "  \n",
    "  Also, if your batcher is stuck and is not running for some reason, try also setting ``number_processes = 1``, since this issue might also be related to multiprocessing issues.\n",
    "\n",
    "* ``iterations``\n",
    "\n",
    "  The number of iterations to run each parameter combination for. Optional.\n",
    "  If not specified, defaults to 1.\n",
    "\n",
    "* ``data_collection_period``\n",
    "\n",
    "  The length of the period (number of steps) after which the model and\n",
    "  agent reporters collect data. Optional. If not specified, defaults to -1,\n",
    "  i.e. only at the end of each episode.\n",
    "\n",
    "* ``max_steps``\n",
    "\n",
    "  The maximum number of time steps after which the model halts. An episode\n",
    "  does either end when ``self.running`` of the model class is set to\n",
    "  ``False`` or when ``model.schedule.steps == max_steps`` is reached.\n",
    "  Optional. If not specified, defaults to 1000.\n",
    "\n",
    "* ``display_progress``\n",
    "\n",
    "  Display the batch run progress. Optional. If not specified, defaults to ``True``.\n",
    "\n",
    "In the following example, we hold the height and width fixed, and vary\n",
    "the homophily treshold of agents. We tell the batch runner to run 10 instantiations\n",
    "of the model with each number of agents, and to run each for 200 steps.\n",
    "\n",
    "At the last step of the model (i.e., `data_collection_period=-1`), the datacollector will collect and store the model-level proportion of engaged agents, as well as each agent’s engaged state, associating each with the last step."
   ]
  },
  {
   "cell_type": "code",
   "execution_count": null,
   "id": "c5912da5",
   "metadata": {},
   "outputs": [],
   "source": [
    "# If your batcher is stuck and is not running for some reason, try setting number_processes = 1\n",
    "\n",
    "from mesa.batchrunner import batch_run\n",
    "\n",
    "results = batch_run(\n",
    "    BoundedConfidenceModelAnalysis,\n",
    "    parameters=params,\n",
    "    iterations=10,\n",
    "    max_steps=100,\n",
    "    number_processes=None,\n",
    "    data_collection_period=-1,\n",
    "    display_progress=True,\n",
    ")"
   ]
  },
  {
   "cell_type": "markdown",
   "id": "e7791f2b",
   "metadata": {},
   "source": [
    "# 9. Run the Batch data Analysis"
   ]
  },
  {
   "cell_type": "markdown",
   "id": "38a1ff71",
   "metadata": {},
   "source": [
    "### Data visualization\n",
    "\n",
    "First, we want to take a closer look at how the number of opinion groups at the end of each episode changes as we increase the opinion difference threshold.\n",
    "For this, we group our data on the ``RunId`` identifier and get a single value per ``RunId`` using a median.\n",
    "Our results to only contain the data of engagement ratio for the entire population at the final step of each episode and then box-plot the values for the engagement ratio over the standard deviation of engagement tresholds.\n",
    "Notice there are 10 values for each sigma value since we set ``iterations=10`` when calling the batch run."
   ]
  },
  {
   "cell_type": "code",
   "execution_count": null,
   "id": "58ef6bbd",
   "metadata": {},
   "outputs": [],
   "source": [
    "import pandas as pd\n",
    "\n",
    "results_df = pd.DataFrame(results)\n",
    "results_df.head()"
   ]
  },
  {
   "cell_type": "code",
   "execution_count": null,
   "id": "d8ba904d",
   "metadata": {
    "scrolled": true
   },
   "outputs": [],
   "source": [
    "results_df.groupby(by=[\"RunId\", \"iteration\", \"Step\"]).median()"
   ]
  },
  {
   "cell_type": "markdown",
   "id": "82637bdc",
   "metadata": {},
   "source": [
    "## Question 3\n",
    "\n",
    "The simulation above should have ran for 10 times for treshold values of d from 0.1 to 0.6 by increases of 0.05.\n",
    "\n",
    "3.1 Your final task is to investigate how the opinion difference threshold influences the final number of opinion groups, using a box plot.\n",
    "Box plot should be able to plot the average opinion group outcome for each treshold value.\n",
    "\n",
    "**Hint:** Your plot should look similar to Figure 4 in [this paper](https://www.worldscientific.com/doi/abs/10.1142/s0219525900000078). The phase shift should be visible on the graph.\n",
    "\n",
    "Put your code in the Answer 3.1 box below."
   ]
  },
  {
   "cell_type": "markdown",
   "id": "0fa94f25",
   "metadata": {},
   "source": [
    "### **Hint:** At the location ``# Create a box-plot for the number of opinion groups over the opinion difference threshold values [Your code here]`` you have to implement:\n",
    "\n",
    "- plot the boxplot of number of opinion groups over the opinion difference threshold values from models data you have collected\n",
    "- using the Pandas ``.boxplot()`` method\n",
    "- group engagement ratio values by ``treshold``\n",
    "- plot the ``Opinion_groups`` column"
   ]
  },
  {
   "cell_type": "code",
   "execution_count": 2,
   "id": "275f5097",
   "metadata": {},
   "outputs": [],
   "source": [
    "# Answer 3.1 [Your code here]\n",
    "# Create a box-plot for the number of opinion groups over the opinion difference threshold values [Your code here]\n"
   ]
  },
  {
   "cell_type": "markdown",
   "id": "18c675e0",
   "metadata": {},
   "source": [
    "3.2 What is the approximate relationship between the final number of opinion groups and the opinion difference threshold d?\n",
    "3.3 Do you sometimes have more groups than you expected? Why?\n",
    "3.4 Are there any treshold values for which you always get consensus?\n",
    "\n",
    "Put your text in the Answer 3.2, 3.3, 3.4 box below."
   ]
  },
  {
   "cell_type": "markdown",
   "id": "6f07eb2c",
   "metadata": {},
   "source": [
    "## Answer 3.2, 3.3, 3.4\n",
    "\n",
    "[Your text answer here]"
   ]
  },
  {
   "cell_type": "markdown",
   "id": "c76a5374",
   "metadata": {},
   "source": [
    "# Appendix"
   ]
  },
  {
   "cell_type": "markdown",
   "id": "69b2e9aa",
   "metadata": {},
   "source": [
    "# Visualization using grid space\n",
    "\n",
    "If we would like to visalize this opinion dynamics model, we need to consider that agents only interact among connected agents when their opinion are already close enough; otherwise they do not even bother to discuss.\n",
    "\n",
    "We now add to our model a condition on neighborhood: agents only interact if they are directly con- nected through a social pre-existing relation. Any agent can only interact with his four connected neighbours ( N, S, E and W) - von Neuman."
   ]
  },
  {
   "cell_type": "markdown",
   "id": "c431113c",
   "metadata": {},
   "source": [
    "These are specific changes from the basic model:\n",
    "\n",
    "### At the location ``# 1 Initialization [Your code here]`` you have to implement:\n",
    "\n",
    "Each agent has:\n",
    "- position - on the grid used to initialize unique ID\n",
    "- opinion - an agent's initial opinion which will change during the simulation\n",
    "\n",
    "### At the location ``# 3 Randomly chose agent [Your code here]`` you have to implement:\n",
    "\n",
    "- get a list of neighbours (use van Neuman by `moore=False`)\n",
    "- select one random agent from the list to interact"
   ]
  },
  {
   "cell_type": "code",
   "execution_count": null,
   "id": "443b4cc6",
   "metadata": {},
   "outputs": [],
   "source": [
    "class BoundedConfidenceAgentSpace(Agent):\n",
    "    \n",
    "    def __init__(self, pos, opinion, model):\n",
    "        '''\n",
    "         Create a new bounded confidence agent.\n",
    "\n",
    "         Args:\n",
    "            unique_id: Unique identifier for the agent\n",
    "            opinion: An agent's initial opinion\n",
    "        '''\n",
    "        \n",
    "        super().__init__(pos, model)\n",
    "        \n",
    "        # 1 Initialization [Your code here]\n",
    "        \n",
    "        \n",
    "    def step(self):\n",
    "        '''\n",
    "        Run one step of the agent.\n",
    "        '''\n",
    "        \n",
    "        # 2 Step agent function\n",
    "        \n",
    "        # 3 Randomly chose agent [Your code here]\n",
    "        \n",
    "        \n",
    "        # 4 Evaluate agents difference of opinion [Your code here]\n",
    "        \n",
    "        \n",
    "        # 5 Re-adjust agents opinions [Your code here]\n",
    "        "
   ]
  },
  {
   "cell_type": "markdown",
   "id": "15d30a76",
   "metadata": {},
   "source": [
    "## Adding space\n",
    "\n",
    "Many ABMs have a spatial element, with agents moving around and\n",
    "interacting with nearby neighbors. Mesa currently supports two overall\n",
    "kinds of spaces: grid, and continuous. Grids are divided into cells, and\n",
    "agents can only be on a particular cell, like pieces on a chess board.\n",
    "Continuous space, in contrast, allows agents to have any arbitrary\n",
    "position. Both grids and continuous spaces are frequently\n",
    "[toroidal](https://en.wikipedia.org/wiki/Toroidal_graph), meaning\n",
    "that the edges wrap around, with cells on the right edge connected to\n",
    "those on the left edge, and the top to the bottom. This prevents some\n",
    "cells having fewer neighbors than others, or agents being able to go off\n",
    "the edge of the environment.\n",
    "\n",
    "Let’s add a simple spatial element to our model by putting our agents on\n",
    "a grid and make them walk around based on the happines and homophily tershold.\n",
    "\n",
    "Mesa has two main types of grids: ``SingleGrid`` and ``MultiGrid``.\n",
    "``SingleGrid`` enforces at most one agent per cell; ``MultiGrid`` allows\n",
    "multiple agents to be in the same cell. Since we want one agent per cell, we use ``SingleGrid``.\n",
    "\n",
    "`from mesa.space import SingleGrid`\n",
    "\n",
    "We instantiate a grid with width and height parameters, and a boolean as\n",
    "to whether the grid is toroidal. Let’s make width and height model\n",
    "parameters, in addition to the number of agents, and have the grid\n",
    "always be toroidal. We can place agents on a grid with the grid’s\n",
    "``position_agent`` method, which takes an agent and an (x, y) tuple of the\n",
    "coordinates to place the agent.\n",
    "\n",
    "Under the hood, each agent’s position is stored in two ways: the agent\n",
    "is contained in the grid in the cell it is currently in, and the agent\n",
    "has a ``pos`` variable with an (x, y) coordinate tuple. The\n",
    "``position_agent`` method adds the coordinate to the agent automatically."
   ]
  },
  {
   "cell_type": "markdown",
   "id": "7a3ba64b",
   "metadata": {},
   "source": [
    "### At the location ``# < Add model parameters [Your code here] })`` you have to implement:\n",
    "\n",
    "- Specify all model-level parameters of its __init__ function\n",
    "- height and width are given already as 30 x 30\n",
    "- Specify: ``convergence = 0.5`` and ``treshold`` yourself [0.0,0.5]."
   ]
  },
  {
   "cell_type": "code",
   "execution_count": null,
   "id": "1f0564ab",
   "metadata": {},
   "outputs": [],
   "source": [
    "from mesa.space import SingleGrid\n",
    "\n",
    "class BoundedConfidenceModelSpace(Model):\n",
    "    \n",
    "    def __init__(self, height, width, treshold, convergence):\n",
    "        '''\n",
    "        Create a new bounded confidence model.\n",
    "\n",
    "         Args:\n",
    "            N: how many agents the model contains\n",
    "            treshold: opinion difference threshold. Floating value from 0 to 1.\n",
    "            convergence: convergence parameter. Floating value from 0 to 0.5.\n",
    "        '''\n",
    "        \n",
    "        super().__init__()\n",
    "        \n",
    "        # 1 Initialization [Your code here]\n",
    "        \n",
    "        self.datacollector = DataCollector(    # < Note that we have both an agent and model data collector\n",
    "            model_reporters={\"Treshold\": \"treshold\"}, agent_reporters={\"Opinion\": \"opinion\"}\n",
    "        )\n",
    "        \n",
    "        # 2 Create agents [Your code here]\n",
    "\n",
    "    def step(self):\n",
    "        '''\n",
    "        Run one step of the model. If All agents are happy, halt the model.\n",
    "        '''\n",
    "        \n",
    "        # 3 Step model function\n",
    "        self.datacollector.collect(self)\n",
    "        self.schedule.step()"
   ]
  },
  {
   "cell_type": "code",
   "execution_count": null,
   "id": "9a1ee24c",
   "metadata": {},
   "outputs": [],
   "source": [
    "from mesa.visualization.modules import CanvasGrid\n",
    "from mesa.visualization.ModularVisualization import ModularServer\n",
    "\n",
    "\n",
    "def agent_portrayal(agent):\n",
    "    portrayal = {\"Shape\": \"circle\",\n",
    "                 \"Filled\": \"true\",\n",
    "                 \"Layer\": 0,\n",
    "                 \"r\": 0.8}\n",
    "    \n",
    "    # 1 Color the agents based on their type to Red and Blue color\n",
    "    portrayal[\"Color\"] = \"rgba(\"+ str(agent.opinion * 256) +\",128,128,1.0)\"\n",
    "        \n",
    "    return portrayal\n",
    "\n",
    "grid = CanvasGrid(agent_portrayal, 30, 30, 500, 500)\n",
    "server = ModularServer(BoundedConfidenceModelSpace,\n",
    "                       [grid],\n",
    "                       \"Bounded Confidence Model\",\n",
    "                       {\"width\":30, \"height\":30, # < Add model parameters [Your code here] })"
   ]
  },
  {
   "cell_type": "markdown",
   "id": "89b74f7c",
   "metadata": {},
   "source": [
    "# 4. Run the Agent/Model Visualization\n",
    "\n",
    "NOTE: Runtime server error is normal and expected when running visualization code below. This visualization code was made for command line execution (not explicitly for Jupyter Notebooks), so we are **forcing** it's use.\n",
    "\n",
    "Just make sure to increment the port number counter each visualization run, to be able to use it."
   ]
  },
  {
   "cell_type": "code",
   "execution_count": null,
   "id": "1f4fd66b",
   "metadata": {},
   "outputs": [],
   "source": [
    "server.port = 8521 # The default 8521 - increase the counter as you run the visalizations\n",
    "#server.launch() # Uncomment to run the visalization"
   ]
  },
  {
   "cell_type": "markdown",
   "id": "aaf43163",
   "metadata": {},
   "source": [
    "## Question 4\n",
    "\n",
    "After the visualization of the opinion dynamics mixing **across a social network**, investigate and eyeball the following question:\n",
    "\n",
    "4.1 What is the (aproximate) critical value of the opinion difference threshold d where you would notice isolated agents which have “extremists” opinions?\n",
    "\n",
    "Put your text in the Answer 4.1 box below."
   ]
  },
  {
   "cell_type": "markdown",
   "id": "b3a7d129",
   "metadata": {},
   "source": [
    "## Answer 4.1\n",
    "\n",
    "[Your text answer here]\n"
   ]
  }
 ],
 "metadata": {
  "kernelspec": {
   "display_name": "Python 3 (ipykernel)",
   "language": "python",
   "name": "python3"
  },
  "language_info": {
   "codemirror_mode": {
    "name": "ipython",
    "version": 3
   },
   "file_extension": ".py",
   "mimetype": "text/x-python",
   "name": "python",
   "nbconvert_exporter": "python",
   "pygments_lexer": "ipython3",
   "version": "3.8.10"
  }
 },
 "nbformat": 4,
 "nbformat_minor": 5
}
