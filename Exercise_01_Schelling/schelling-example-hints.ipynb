{
 "cells": [
  {
   "cell_type": "markdown",
   "id": "27aa6aa3",
   "metadata": {},
   "source": [
    "# Mesa Schelling example - Schelling Segregation Model\n",
    "\n",
    "[[Code explanation]](https://towardsdatascience.com/introduction-to-mesa-agent-based-modeling-in-python-bcb0596e1c9a) **Note that the final interactive visualization part is optional**\n",
    "\n",
    "## Description\n",
    "\n",
    "The Schelling (1971) segregation model is a classic of agent-based modeling, demonstrating how agents following simple rules lead to the emergence of qualitatively different macro-level outcomes. Agents are randomly placed on a grid. There are two types of agents, one constituting the majority and the other the minority. All agents want a certain number (generally, 3) of their 8 surrounding neighbors to be of the same type in order for them to be happy. Unhappy agents will move to a more happier grid space (if available). While individual agents do not have a preference for a segregated outcome (e.g. they would be happy with 3 similar neighbors and 5 different ones), the aggregate outcome is nevertheless heavily segregated.\n",
    "\n",
    "## Sample Model Description\n",
    "\n",
    "The tutorial model is a very simple simulated agent segregation. The rules of our tutorial model:\n",
    "\n",
    "1. There are some number of agents.\n",
    "2. All agents begin as randomly placed on a grid.\n",
    "3. At every step of the model, an agent considers his surrounding neighbors to be of the same type in order for them to be happy.\n",
    "4. If an agent is unhappy, it moves the the unoccupied cell with maximal happines (if such happines is at least equal to the one at the current location); otherwise, an agent doesn't move\n",
    "\n",
    "Despite its simplicity, this model yields results that are often unexpected to those not familiar with it. For our purposes, it also easily demonstrates Mesa’s core features.\n",
    "\n",
    "## How to use and modify the code\n",
    "\n",
    "These excercises are designed around a Mesa template that is given to you to reuse. You are not asked to perform any complex object programming, but instead we ask for understanding of the core features of the Mesa pyhton package. You will mostly have to modifly the existing template and code the ``Model`` and ``Agent``behavior using standard python code.\n",
    "\n",
    "**Therefore, in this excercise, you are asked to fill your code where the comments state:**\n",
    "\n",
    "``#[Your code here]``\n",
    "\n",
    "Let’s get started."
   ]
  },
  {
   "cell_type": "markdown",
   "id": "2853aae8",
   "metadata": {},
   "source": [
    "# 1. Create the Basic Agent/Model"
   ]
  },
  {
   "cell_type": "markdown",
   "id": "28d0b6e0",
   "metadata": {},
   "source": [
    "## Setting up the model\n",
    "\n",
    "To begin writing the model code, we start with two core classes: one for\n",
    "the overall model, the other for the agents. The model class holds the\n",
    "model-level attributes, manages the agents, and generally handles the\n",
    "global level of our model. Each instantiation of the model class will be\n",
    "a specific model run. Each model will contain multiple agents, all of\n",
    "which are instantiations of the agent class. Both the model and agent\n",
    "classes are child classes of Mesa’s generic ``Model`` and ``Agent``\n",
    "classes.\n",
    "\n",
    "### At the location ``# 1 Initialization [Your code here]`` you have to implement:\n",
    "\n",
    "Each agent has only two variables:\n",
    "- 2D position on the grid (x , y)\n",
    "- agent type [0, 1]\n",
    "\n",
    "(Each agent will also have a unique identifier (i.e., a position), stored in\n",
    "the ``pos`` variable. Giving each agent a unique id is a good\n",
    "practice when doing agent-based modeling.)\n",
    "\n",
    "### At the location ``# 2 Step agent function [Your code here]`` you have to implement:\n",
    "\n",
    "- if there are no neighbors - agent is happy and stays\n",
    "\n",
    "### At the location ``# 3 Calculate the number of similar neighbours [Your code here]`` you have to implement:\n",
    "\n",
    "- calculate the number of similar neighbours\n",
    "- if the Agent is happy with it's neighbourhood - it stays\n",
    "\n",
    "### At the location ``# 4 Move to an empty location if unhappy [Your code here]`` you have to implement:\n",
    "\n",
    "- if the Agent is unhappy - perform move to better empty cell\n",
    "- if at new location there are no neighbors - agent moves\n",
    "- build a happines priority list of all possible empty cells\n",
    "- move to a higest happines place from such list of empties, if happines is as high as at current location\n",
    "\n",
    "The beginning of both classes looks like this:"
   ]
  },
  {
   "cell_type": "code",
   "execution_count": null,
   "id": "4529aa9f",
   "metadata": {},
   "outputs": [],
   "source": [
    "from mesa import Model, Agent\n",
    "from mesa.time import RandomActivation\n",
    "from mesa.space import SingleGrid"
   ]
  },
  {
   "cell_type": "code",
   "execution_count": null,
   "id": "2e0ea364",
   "metadata": {},
   "outputs": [],
   "source": [
    "class SchellingAgentBasic(Agent):\n",
    "    \n",
    "    def __init__(self, pos, model):\n",
    "        '''\n",
    "         Create a new Schelling agent.\n",
    "\n",
    "         Args:\n",
    "            pos: Agent initial location and unique identifier for the agent.\n",
    "            agent_type: Indicator for the agent's type (minority=1, majority=0)\n",
    "        '''\n",
    "        \n",
    "        super().__init__(pos, model)\n",
    "        \n",
    "        # 1 Initialization [Your code here]\n",
    "        \n",
    "    def step(self):\n",
    "        '''\n",
    "        Run one step of the agent. Move if unhappy, stay otherwise\n",
    "        '''\n",
    "        \n",
    "        # 2 Step agent function [Your code here]\n",
    "        n_neighbors = len(self.model.grid.get_neighbors(self.pos, True))\n",
    "        \n",
    "        # 3 Calculate the number of similar neighbours [Your code here]\n",
    "        neighbors = self.model.grid.neighbor_iter(self.pos)\n",
    "        for neighbor in neighbors:\n",
    "            neighbor.type\n",
    "            \n",
    "        # 4 Move to an empty location if unhappy [Your code here]\n",
    "        empty_happines_list = {}\n",
    "        for empty in self.model.grid.empties:\n",
    "            \n",
    "            n_empty_neighbors = len(self.model.grid.get_neighbors(empty, True))\n",
    "            \n",
    "            if n_empty_neighbors == 0:\n",
    "                self.model.grid.move_agent(self, empty)\n",
    "                return\n",
    "            \n",
    "            empty_loc_happines = (similar / n_empty_neighbors) * 100\n",
    "            empty_happines_list[empty] = empty_loc_happines\n",
    "            \n",
    "        max_happines_empty_loc = max(empty_happines_list, key=empty_happines_list.get)\n"
   ]
  },
  {
   "cell_type": "markdown",
   "id": "cee40ed4",
   "metadata": {},
   "source": [
    "## Adding the scheduler\n",
    "\n",
    "Time in most agent-based models moves in steps, sometimes also called\n",
    "**ticks**. At each step of the model, one or more of the agents –\n",
    "usually all of them – are activated and take their own step, changing\n",
    "internally and/or interacting with one another or the environment.\n",
    "\n",
    "The **scheduler** is a special model component which controls the order\n",
    "in which agents are activated. For example, all the agents may activate\n",
    "in the same order every step; their order might be shuffled; we may try\n",
    "to simulate all the agents acting at the same time; and more. Mesa\n",
    "offers a few different built-in scheduler classes, with a common\n",
    "interface. That makes it easy to change the activation regime a given\n",
    "model uses, and see whether it changes the model behavior. This may not\n",
    "seem important, but scheduling patterns can have an impact on your\n",
    "results.\n",
    "\n",
    "For now, let’s use one of the simplest ones: ``RandomActivation``, which\n",
    "activates all the agents once per step, in random order. Every agent is\n",
    "expected to have a ``step`` method. The step method is the action the\n",
    "agent takes when it is activated by the model schedule. We add an agent\n",
    "to the schedule using the ``add`` method; when we call the schedule’s\n",
    "``step`` method, the model shuffles the order of the agents, then\n",
    "activates and executes each agent’s ``step`` method.\n",
    "\n",
    "With that in mind, the model code with the scheduler added looks like\n",
    "this:"
   ]
  },
  {
   "cell_type": "markdown",
   "id": "95505e82",
   "metadata": {},
   "source": [
    "## Adding space\n",
    "\n",
    "Many ABMs have a spatial element, with agents moving around and\n",
    "interacting with nearby neighbors. Mesa currently supports two overall\n",
    "kinds of spaces: grid, and continuous. Grids are divided into cells, and\n",
    "agents can only be on a particular cell, like pieces on a chess board.\n",
    "Continuous space, in contrast, allows agents to have any arbitrary\n",
    "position. Both grids and continuous spaces are frequently\n",
    "[toroidal](https://en.wikipedia.org/wiki/Toroidal_graph), meaning\n",
    "that the edges wrap around, with cells on the right edge connected to\n",
    "those on the left edge, and the top to the bottom. This prevents some\n",
    "cells having fewer neighbors than others, or agents being able to go off\n",
    "the edge of the environment.\n",
    "\n",
    "Let’s add a simple spatial element to our model by putting our agents on\n",
    "a grid and make them walk around based on the happines and homophily tershold.\n",
    "\n",
    "Mesa has two main types of grids: ``SingleGrid`` and ``MultiGrid``.\n",
    "``SingleGrid`` enforces at most one agent per cell; ``MultiGrid`` allows\n",
    "multiple agents to be in the same cell. Since we want one agent per cell, we use ``SingleGrid``.\n",
    "\n",
    "`from mesa.space import SingleGrid`\n",
    "\n",
    "We instantiate a grid with width and height parameters, and a boolean as\n",
    "to whether the grid is toroidal. Let’s make width and height model\n",
    "parameters, in addition to the number of agents, and have the grid\n",
    "always be toroidal. We can place agents on a grid with the grid’s\n",
    "``position_agent`` method, which takes an agent and an (x, y) tuple of the\n",
    "coordinates to place the agent.\n",
    "\n",
    "Under the hood, each agent’s position is stored in two ways: the agent\n",
    "is contained in the grid in the cell it is currently in, and the agent\n",
    "has a ``pos`` variable with an (x, y) coordinate tuple. The\n",
    "``position_agent`` method adds the coordinate to the agent automatically."
   ]
  },
  {
   "cell_type": "markdown",
   "id": "07bdfced",
   "metadata": {},
   "source": [
    "### At the location ``# 1 Initialization [Your code here]`` you have to implement:\n",
    "\n",
    "There are a number of model-level parameters: \n",
    "\n",
    "- height and width of the grid\n",
    "- density of grid population to define how many agents and empty cells the model contains\n",
    "- minority proportion to define proportion of two types of agents on the grid\n",
    "- homophily treshold to which the agent is happy with its neighbourhood\n",
    "- Use ``RandomActivation`` scheduler\n",
    "- Use ``SingleGrid`` space with torus folding\n",
    "\n",
    "### At the location ``# 2 Create agents [Your code here]`` you have to implement:\n",
    "\n",
    "- use uniform random numbers to populate the grid based on density parameter\n",
    "- use uniform random numbers to selects agent type based on minority proportion\n",
    "\n",
    "When a new model is started, we want it to populate the grid itself with the defined number of agents segregated on the given proportion between two groups."
   ]
  },
  {
   "cell_type": "code",
   "execution_count": null,
   "id": "a43375fa",
   "metadata": {},
   "outputs": [],
   "source": [
    "class SchellingModelBasic(Model):\n",
    "\n",
    "    def __init__(self, height, width, density, minority_pc):\n",
    "        '''\n",
    "        Create a new Schelling model.\n",
    "\n",
    "         Args:\n",
    "            width: Horizontal axis of the grid which is used together with Height to define the total number of agents in the system.\n",
    "            height: Vertical axis of the grid which is used together with Width to define the total number of agents in the system.\n",
    "            density: Define the population density of agent in the system. Floating value from 0 to 1.\n",
    "            fraction minority: The ratio between blue and red. Blue is represented as the minority while red is represented as the majority. Floating value from 0 to 1. If the value is higher than 0.5, blue will become the majority instead.\n",
    "            homophily: Define the number of similar neighbors required for the agents to be happy. Integer value range from 0 to 8 since you can only be surrounded by 8 neighbors.\n",
    "        '''\n",
    "        super().__init__()\n",
    "        \n",
    "        self.density = density\n",
    "        self.minority_pc = minority_pc\n",
    "        \n",
    "        # 1 Initialization [Your code here]\n",
    "        self.happy = 0\n",
    "        \n",
    "        self.running = True\n",
    "        \n",
    "        # We use a grid iterator that returns the coordinates of a cell as well as its contents. (coord_iter)\n",
    "        for cell in self.grid.coord_iter():\n",
    "            x = cell[1]\n",
    "            y = cell[2]\n",
    "            \n",
    "            if random.random() < self.density:\n",
    "                if random.random() < self.minority_pc:\n",
    "                    agent_type = 1\n",
    "                else:\n",
    "                    agent_type = 0\n",
    "                    \n",
    "                # 2 Create agents\n",
    "                agent = SchellingAgent((x, y), self, agent_type)\n",
    "                self.grid.position_agent(agent, (x, y))\n",
    "                self.schedule.add(agent)\n",
    "\n",
    "    def step(self):\n",
    "        '''\n",
    "        Run one step of the model. If All agents are happy, halt the model.\n",
    "        '''\n",
    "        \n",
    "        # 3 Step model function\n",
    "        \n",
    "        # Reset counter of happy agents each model step\n",
    "        self.happy = 0\n",
    "        self.schedule.step()\n",
    "        \n",
    "        # 4 Stop the model if all agents are happy\n",
    "        if self.happy == self.schedule.get_agent_count():\n",
    "            self.running = False"
   ]
  },
  {
   "cell_type": "markdown",
   "id": "7ee83ebb",
   "metadata": {},
   "source": [
    "# 2. Run the Agent/Model Basic"
   ]
  },
  {
   "cell_type": "markdown",
   "id": "7883c3cd",
   "metadata": {},
   "source": [
    "### Running the model\n",
    "\n",
    "At this point, we have a model which runs.\n",
    "You can see for yourself with a few easy lines. If you’ve been working\n",
    "in an interactive session, you can create a model object directly. \n",
    "\n",
    "With that last piece in hand, it’s time for the first rudimentary run of\n",
    "the model.\n",
    "\n",
    "Now let’s create a model with 10 x 10 agents, and run it for 10 steps."
   ]
  },
  {
   "cell_type": "markdown",
   "id": "90d56d14",
   "metadata": {},
   "source": [
    "### At the location ``# < Add model parameters [Your code here]`` you have to implement:\n",
    "\n",
    "- specify all model-level parameters of its __init__ function\n",
    "- height and width are given already as 10 x 10, as well as density and minority proportion\n",
    "- specify: homophily treshold"
   ]
  },
  {
   "cell_type": "code",
   "execution_count": null,
   "id": "d4d00c6c",
   "metadata": {},
   "outputs": [],
   "source": [
    "model = SchellingModelBasic(10, 10, 0.98, 0.5, # < Add model parameters [Your code here] )\n",
    "\n",
    "while model.running and model.schedule.steps < 100:\n",
    "    model.step()\n",
    "                            \n",
    "print('The Schelling Model ran for {} steps'.format(model.schedule.steps))"
   ]
  },
  {
   "cell_type": "markdown",
   "id": "ab7f781c",
   "metadata": {},
   "source": [
    "# 3. Visualize the Agent/Model"
   ]
  },
  {
   "cell_type": "markdown",
   "id": "f3dc045d",
   "metadata": {},
   "source": [
    "### At the location ``# < Add model parameters [Your code here]`` you have to implement:\n",
    "\n",
    "- specify all model-level parameters of its __init__ function\n",
    "- height and width are given already as 10 x 10, as well as density and minority proportion\n",
    "- specify: homophily treshold"
   ]
  },
  {
   "cell_type": "code",
   "execution_count": null,
   "id": "2f45dba8",
   "metadata": {},
   "outputs": [],
   "source": [
    "from mesa.visualization.modules import CanvasGrid\n",
    "from mesa.visualization.ModularVisualization import ModularServer\n",
    "\n",
    "\n",
    "def agent_portrayal(agent):\n",
    "    portrayal = {\"Shape\": \"circle\",\n",
    "                 \"Filled\": \"true\",\n",
    "                 \"Layer\": 0,\n",
    "                 \"r\": 0.5}\n",
    "    \n",
    "    # 1 Color the agents based on their type to Red and Blue color\n",
    "    if agent.type == 0:\n",
    "        portrayal[\"Color\"] = \"Red\"\n",
    "    else:\n",
    "        portrayal[\"Color\"] = \"Blue\"\n",
    "        \n",
    "    return portrayal\n",
    "\n",
    "grid = CanvasGrid(agent_portrayal, 10, 10, 500, 500)\n",
    "server = ModularServer(SchellingModelBasic,\n",
    "                       [grid],\n",
    "                       \"Schelling Model\",\n",
    "                       {\"width\":10, \"height\":10, \"density\":0.98, \"minority_pc\":0.5 # < Add model parameters [Your code here]})"
   ]
  },
  {
   "cell_type": "markdown",
   "id": "4f50af05",
   "metadata": {},
   "source": [
    "# 4. Run the Agent/Model Visualization\n",
    "\n",
    "NOTE: Runtime server error is normal and expected when running visualization code below. This visualization code was made for command line execution (not explicitly for Jupyter Notebooks), so we are **forcing** it's use.\n",
    "\n",
    "Just make sure to increment the port number counter each visualization run, to be able to use it."
   ]
  },
  {
   "cell_type": "code",
   "execution_count": null,
   "id": "19adfd6c",
   "metadata": {},
   "outputs": [],
   "source": [
    "server.port = 8521 # The default 8521 - increase the counter as you run the visalizations\n",
    "#server.launch() # Uncomment to run the visalization"
   ]
  },
  {
   "cell_type": "markdown",
   "id": "63121b88",
   "metadata": {},
   "source": [
    "# 5. Collect data to Analyze the Agent/Model"
   ]
  },
  {
   "cell_type": "markdown",
   "id": "f284a733",
   "metadata": {},
   "source": [
    "### Collecting Data\n",
    "\n",
    "So far, at the end of every model run, we’ve had to go and write our own\n",
    "code to get the data out of the model. This has two problems: it isn’t\n",
    "very efficient, and it only gives us end results. If we wanted to know\n",
    "the wealth of each agent at each step, we’d have to add that to the loop\n",
    "of executing steps, and figure out some way to store the data.\n",
    "\n",
    "Since one of the main goals of agent-based modeling is generating data\n",
    "for analysis, Mesa provides a class which can handle data collection and\n",
    "storage for us and make it easier to analyze.\n",
    "\n",
    "The data collector stores three categories of data: model-level\n",
    "variables, agent-level variables, and tables (which are a catch-all for\n",
    "everything else). Model- and agent-level variables are added to the data\n",
    "collector along with a function for collecting them. Model-level\n",
    "collection functions take a model object as an input, while agent-level\n",
    "collection functions take an agent object as an input. Both then return\n",
    "a value computed from the model or each agent at their current state.\n",
    "When the data collector’s ``collect`` method is called, with a model\n",
    "object as its argument, it applies each model-level collection function\n",
    "to the model, and stores the results in a dictionary, associating the\n",
    "current value with the current step of the model. Similarly, the method\n",
    "applies each agent-level collection function to each agent currently in\n",
    "the schedule, associating the resulting value with the step of the\n",
    "model, and the agent’s ``unique_id``.\n",
    "\n",
    "Let’s add a DataCollector to the model, and collect two variables. At\n",
    "the agent level, we want to collect every agent’s position at every step.\n",
    "At the model level, let’s measure the model’s [Moran's I](https://en.wikipedia.org/wiki/Moran%27s_I), a\n",
    "measure of spatial autocorrelation.\n",
    "\n",
    "At the last step of the model, the datacollector will collect and store the\n",
    "model-level Moran's I coefficient, as well as each agent’s position,\n",
    "associating each with the last step."
   ]
  },
  {
   "cell_type": "markdown",
   "id": "41c3fd38",
   "metadata": {},
   "source": [
    "### # 4. Analysis code for calculating Moran's I\n",
    "\n",
    "- note that this is the code for calculation of Moran's I\n",
    "\n",
    "### Agent code should be the same (refer in the code above)\n",
    "\n",
    "### Model code has a ``DataCollector`` step\n",
    "\n",
    "- note the use of ``DataCollector`` to collect the following model-level data:\n",
    "- number of happy agents\n",
    "- Moran's I"
   ]
  },
  {
   "cell_type": "code",
   "execution_count": null,
   "id": "cf5523aa",
   "metadata": {},
   "outputs": [],
   "source": [
    "def get_morans_i(model):\n",
    "    '''\n",
    "    Find Moran's I for all agents and neighbours on the grid.\n",
    "    '''\n",
    "    \n",
    "    x_kappa = model.minority_pc\n",
    "    N = model.schedule.get_agent_count()\n",
    "    edges_var = 0\n",
    "    edges_sum = 0\n",
    "    total_edges = 0\n",
    "    \n",
    "    # 4. Analysis code for calculating Moran's I\n",
    "    \n",
    "    for agent in model.schedule.agents:\n",
    "        edges_var += (agent.type - x_kappa) ** 2\n",
    "        for neighbor in model.grid.neighbor_iter(agent.pos):\n",
    "            total_edges += 1\n",
    "            edges_sum += (agent.type - x_kappa) * (neighbor.type - x_kappa)\n",
    "            \n",
    "    return (N * edges_sum) / (total_edges * edges_var)\n"
   ]
  },
  {
   "cell_type": "code",
   "execution_count": null,
   "id": "8d389a5d",
   "metadata": {},
   "outputs": [],
   "source": [
    "class SchellingAgentAnalysis(Agent):\n",
    "    \n",
    "    def __init__(self, pos, model):\n",
    "        '''\n",
    "         Create a new Schelling agent.\n",
    "\n",
    "         Args:\n",
    "            pos: Agent initial location and unique identifier for the agent.\n",
    "            agent_type: Indicator for the agent's type (minority=1, majority=0)\n",
    "        '''\n",
    "        \n",
    "        super().__init__(pos, model)\n",
    "        \n",
    "        # 1 Initialization [Your code here]\n",
    "        \n",
    "    def step(self):\n",
    "        '''\n",
    "        Run one step of the agent. Move if unhappy, stay otherwise\n",
    "        '''\n",
    "        \n",
    "        # 2 Step agent function [Your code here]\n",
    "        n_neighbors = len(self.model.grid.get_neighbors(self.pos, True))\n",
    "        \n",
    "        # 3 Calculate the number of similar neighbours [Your code here]\n",
    "        neighbors = self.model.grid.neighbor_iter(self.pos)\n",
    "        for neighbor in neighbors:\n",
    "            neighbor.type\n",
    "            \n",
    "        # 4 Move to an empty location if unhappy [Your code here]\n",
    "        empty_happines_list = {}\n",
    "        for empty in self.model.grid.empties:\n",
    "            \n",
    "            n_empty_neighbors = len(self.model.grid.get_neighbors(empty, True))\n",
    "            \n",
    "            if n_empty_neighbors == 0:\n",
    "                self.model.grid.move_agent(self, empty)\n",
    "                return\n",
    "            \n",
    "            empty_loc_happines = (similar / n_empty_neighbors) * 100\n",
    "            empty_happines_list[empty] = empty_loc_happines\n",
    "            \n",
    "        max_happines_empty_loc = max(empty_happines_list, key=empty_happines_list.get)"
   ]
  },
  {
   "cell_type": "code",
   "execution_count": null,
   "id": "4074e772",
   "metadata": {},
   "outputs": [],
   "source": [
    "from mesa.datacollection import DataCollector\n",
    "\n",
    "class SchellingModelAnalysis(Model):\n",
    "\n",
    "    def __init__(self, height, width, density, minority_pc):\n",
    "        '''\n",
    "        Create a new Schelling model.\n",
    "\n",
    "         Args:\n",
    "            width: Horizontal axis of the grid which is used together with Height to define the total number of agents in the system.\n",
    "            height: Vertical axis of the grid which is used together with Width to define the total number of agents in the system.\n",
    "            density: Define the population density of agent in the system. Floating value from 0 to 1.\n",
    "            fraction minority: The ratio between blue and red. Blue is represented as the minority while red is represented as the majority. Floating value from 0 to 1. If the value is higher than 0.5, blue will become the majority instead.\n",
    "            homophily: Define the number of similar neighbors required for the agents to be happy. Integer value range from 0 to 8 since you can only be surrounded by 8 neighbors.\n",
    "        '''\n",
    "        super().__init__()\n",
    "        \n",
    "        self.density = density\n",
    "        self.minority_pc = minority_pc\n",
    "        \n",
    "        # 1 Initialization [Your code here]\n",
    "        self.happy = 0\n",
    "        \n",
    "        # Collect data\n",
    "        self.datacollector = DataCollector(\n",
    "            {\"Happy\": \"happy\", \"Morans_I\": get_morans_i},  # Model-level count of happy agents\n",
    "            # For testing purposes, agent's individual x and y\n",
    "            {\"x\": lambda a: a.pos[0], \"y\": lambda a: a.pos[1]})\n",
    "        \n",
    "        self.running = True\n",
    "        \n",
    "        # We use a grid iterator that returns the coordinates of a cell as well as its contents. (coord_iter)\n",
    "        for cell in self.grid.coord_iter():\n",
    "            x = cell[1]\n",
    "            y = cell[2]\n",
    "            \n",
    "            if random.random() < self.density:\n",
    "                if random.random() < self.minority_pc:\n",
    "                    agent_type = 1\n",
    "                else:\n",
    "                    agent_type = 0\n",
    "                    \n",
    "                # 2 Create agents\n",
    "                agent = SchellingAgent((x, y), self, agent_type)\n",
    "                self.grid.position_agent(agent, (x, y))\n",
    "                self.schedule.add(agent)\n",
    "\n",
    "    def step(self):\n",
    "        '''\n",
    "        Run one step of the model. If All agents are happy, halt the model.\n",
    "        '''\n",
    "        \n",
    "        # 3 Step model function\n",
    "        \n",
    "        # Reset counter of happy agents each model step\n",
    "        self.happy = 0\n",
    "        self.schedule.step()\n",
    "        \n",
    "        # 4 collect data\n",
    "        self.datacollector.collect(self)\n",
    "        \n",
    "        # 5 Stop the model if all agents are happy\n",
    "        if self.happy == self.schedule.get_agent_count():\n",
    "            self.running = False"
   ]
  },
  {
   "cell_type": "markdown",
   "id": "340fc47f",
   "metadata": {},
   "source": [
    "### Running the model\n",
    "\n",
    "We run the model just as we did above. Now is when an interactive\n",
    "session, especially via a Notebook, comes in handy: the DataCollector\n",
    "can export the data it’s collected as a pandas DataFrame, for easy\n",
    "interactive analysis.\n",
    "\n",
    "Now we instantiate a model instance: a 10x10 grid, with an 98% chance of an agent being placed in each cell, approximately 50% of agents set as minorities, and agents wanting at least 3 similar neighbors.\n",
    "\n",
    "We want to run the model until all the agents are happy with where they are. However, there's no guarentee that a given model instantiation will *ever* settle down. So let's run it for either 100 steps or until it stops on its own, whichever comes first:"
   ]
  },
  {
   "cell_type": "markdown",
   "id": "76d3b213",
   "metadata": {},
   "source": [
    "### At the location ``# < Add model parameters [Your code here]`` you have to implement:\n",
    "\n",
    "- specify all model-level parameters of its __init__ function\n",
    "- height and width are given already as 10 x 10, as well as density and minority proportion\n",
    "- specify: homophily treshold"
   ]
  },
  {
   "cell_type": "code",
   "execution_count": null,
   "id": "b245a780",
   "metadata": {},
   "outputs": [],
   "source": [
    "# Test the model\n",
    "\n",
    "model = SchellingModelAnalysis(10, 10, 0.98, 0.5, # < Add model parameters [Your code here] )\n",
    "                            \n",
    "while model.running and model.schedule.steps < 100:\n",
    "    model.step()\n",
    "                            \n",
    "print('The Schelling Model ran for {} steps'.format(model.schedule.steps))"
   ]
  },
  {
   "cell_type": "markdown",
   "id": "b4f3754e",
   "metadata": {},
   "source": [
    "# 6. Run the Agent/Model Analysis"
   ]
  },
  {
   "cell_type": "markdown",
   "id": "4b94817f",
   "metadata": {},
   "source": [
    "Now we can get the model-moran's I data.\n",
    "\n",
    "You’ll see that the DataFrame’s index is pairings of model step and\n",
    "agent ID. You can analyze it the way you would any other DataFrame."
   ]
  },
  {
   "cell_type": "code",
   "execution_count": null,
   "id": "e5f9248f",
   "metadata": {},
   "outputs": [],
   "source": [
    "import pandas as pd\n",
    "\n",
    "model_out = model.datacollector.get_model_vars_dataframe()\n",
    "model_out.head()"
   ]
  },
  {
   "cell_type": "code",
   "execution_count": null,
   "id": "2a1171b8",
   "metadata": {},
   "outputs": [],
   "source": [
    "model_out.Happy.plot() # Create a plot for the number of happy agents over the model steps"
   ]
  },
  {
   "cell_type": "markdown",
   "id": "a2bd84ca",
   "metadata": {},
   "source": [
    "Similarly, we can get the agent-position data:"
   ]
  },
  {
   "cell_type": "code",
   "execution_count": null,
   "id": "f6dded92",
   "metadata": {},
   "outputs": [],
   "source": [
    "agent_out = model.datacollector.get_agent_vars_dataframe()\n",
    "agent_out.head()"
   ]
  },
  {
   "cell_type": "code",
   "execution_count": null,
   "id": "68d36033",
   "metadata": {},
   "outputs": [],
   "source": [
    "agent_out.xs((0,1), level=\"AgentID\").plot(y=[\"x\", \"y\"]) # Create a plot for the x, y position of a single agent over the model steps"
   ]
  },
  {
   "cell_type": "markdown",
   "id": "972d986b",
   "metadata": {},
   "source": [
    "# 7. Create iteration Batch of the Agent/Model"
   ]
  },
  {
   "cell_type": "markdown",
   "id": "c7c898dc",
   "metadata": {},
   "source": [
    "### Batch Run\n",
    "\n",
    "Like we mentioned above, you usually won’t run a model only once, but\n",
    "multiple times, with fixed parameters to find the overall distributions\n",
    "the model generates, and with varying parameters to analyze how they\n",
    "drive the model’s outputs and behaviors. Instead of needing to write\n",
    "nested for-loops for each model, Mesa provides a ``batch_run`` function\n",
    "which automates it for you.\n",
    "\n",
    "The batch runner also requires an additional variable ``self.running``\n",
    "for the Model class. This variable enables conditional shut off of\n",
    "the model once a condition is met."
   ]
  },
  {
   "cell_type": "markdown",
   "id": "ad72d4be",
   "metadata": {},
   "source": [
    "### At the location ``# < Add model parameters [Your code here]`` you have to implement:\n",
    "\n",
    "- specify all model-level parameters of its __init__ function\n",
    "- height and width are given already as 10 x 10, as well as density and minority proportion\n",
    "- specify: homophily treshold"
   ]
  },
  {
   "cell_type": "code",
   "execution_count": null,
   "id": "c7a768f3",
   "metadata": {},
   "outputs": [],
   "source": [
    "params = {\"height\": 10, \"width\": 10, \"density\": 0.98, \"minority_pc\": 0.5 # < Add model parameters [Your code here] } "
   ]
  },
  {
   "cell_type": "markdown",
   "id": "932fe121",
   "metadata": {},
   "source": [
    "# 8. Run the Agent/Model Batch"
   ]
  },
  {
   "cell_type": "markdown",
   "id": "72bc1bce",
   "metadata": {},
   "source": [
    "### Running the model\n",
    "\n",
    "We call ``batch_run`` with the following arguments:\n",
    "\n",
    "* ``model_cls``\n",
    "\n",
    "  The model class that is used for the batch run.\n",
    "\n",
    "* ``parameters``\n",
    "\n",
    "  A dictionary containing all the parameters of the model class and\n",
    "  desired values to use for the batch run as key-value pairs. Each\n",
    "  value can either be fixed ( e.g. ``{\"height\": 10, \"width\": 10}``)\n",
    "  or an iterable (e.g. ``{\"homophily\": range(0,100, 13)}``). ``batch_run``\n",
    "  will then generate all possible parameter combinations based on this\n",
    "  dictionary and run the model ``iterations`` times for each combination.\n",
    "\n",
    "* ``number_processes``\n",
    "\n",
    "  Number of processors used to run the sweep in parallel. Optional.\n",
    "  If not specified, defaults to use all the available processors.\n",
    "\n",
    "  Note: Multiprocessing does make debugging challenging. If your\n",
    "  parameter sweeps are resulting in unexpected errors set ``number_processes = 1``.\n",
    "\n",
    "* ``iterations``\n",
    "\n",
    "  The number of iterations to run each parameter combination for. Optional.\n",
    "  If not specified, defaults to 1.\n",
    "\n",
    "* ``data_collection_period``\n",
    "\n",
    "  The length of the period (number of steps) after which the model and\n",
    "  agent reporters collect data. Optional. If not specified, defaults to -1,\n",
    "  i.e. only at the end of each episode.\n",
    "\n",
    "* ``max_steps``\n",
    "\n",
    "  The maximum number of time steps after which the model halts. An episode\n",
    "  does either end when ``self.running`` of the model class is set to\n",
    "  ``False`` or when ``model.schedule.steps == max_steps`` is reached.\n",
    "  Optional. If not specified, defaults to 1000.\n",
    "\n",
    "* ``display_progress``\n",
    "\n",
    "  Display the batch run progress. Optional. If not specified, defaults to ``True``.\n",
    "\n",
    "In the following example, we hold the height and width fixed, and vary\n",
    "the homophily treshold of agents. We tell the batch runner to run 10 instantiations\n",
    "of the model with each number of agents, and to run each for 200 steps.\n",
    "\n",
    "We want to keep track of\n",
    "\n",
    "1. the Moran's I coefficient value and\n",
    "2. the individual agent’s position development."
   ]
  },
  {
   "cell_type": "code",
   "execution_count": null,
   "id": "a7133db0",
   "metadata": {},
   "outputs": [],
   "source": [
    "from mesa.batchrunner import batch_run\n",
    "\n",
    "results = batch_run(\n",
    "    SchellingModelAnalysis,\n",
    "    parameters=params,\n",
    "    iterations=10,\n",
    "    max_steps=100,\n",
    "    display_progress=True,\n",
    ")"
   ]
  },
  {
   "cell_type": "markdown",
   "id": "d1fa2d63",
   "metadata": {},
   "source": [
    "# 9. Run the Batch data Analysis"
   ]
  },
  {
   "cell_type": "markdown",
   "id": "f7e595e7",
   "metadata": {},
   "source": [
    "### Data visualization\n",
    "\n",
    "First, we want to take a closer look at how the Moran's I coefficient at the\n",
    "end of each episode changes as we increase the homophily treshold of the population.\n",
    "For this, we group our data on the ``RunId`` identifier and get a single value per ``RunId`` using a median. Our results to only contain the data of Moran's I for the entire population at the final step of each episode and then box-plot the values\n",
    "for the Moran's I coefficient over the the hoophily of agents. Notice there are\n",
    "10 values for each homophily treshold since we set ``iterations=10`` when\n",
    "calling the batch run."
   ]
  },
  {
   "cell_type": "code",
   "execution_count": null,
   "id": "d4453a1f",
   "metadata": {},
   "outputs": [],
   "source": [
    "import pandas as pd\n",
    "\n",
    "results_df = pd.DataFrame(results)\n",
    "results_df.head()"
   ]
  },
  {
   "cell_type": "markdown",
   "id": "c26bb89f",
   "metadata": {},
   "source": [
    "Task: Find out how homophily (level of neighbour similaritly) influences the final segragation of agents using the mean or box plot. You should be able to plot the average outcome for each homophily value.\n",
    "\n",
    "**hint** Your plot should look similar to [this paper](https://www.jasss.org/15/1/6.html). Not neccesarily with Moran's I, but the transition should be visible"
   ]
  },
  {
   "cell_type": "markdown",
   "id": "1013746f",
   "metadata": {},
   "source": [
    "### Create a box-plot for the Moran's I over the homophily tresholds\n",
    "\n",
    "- plot the boxplot of Moran's I values over homophiliy treshold values from models data you collected\n",
    "- using the Pandas ``.boxplot()`` method\n",
    "- group Moran's I values by ``homophily``\n",
    "- plot the ``Morans_I`` column"
   ]
  },
  {
   "cell_type": "code",
   "execution_count": null,
   "id": "d9210e62",
   "metadata": {},
   "outputs": [],
   "source": [
    "# Create a box-plot for the Moran's I over the homophily tresholds\n",
    "results_df.groupby(by=[\"RunId\"]).median().boxplot(by ='homophily', column =['Morans_I'], grid=False)"
   ]
  }
 ],
 "metadata": {
  "kernelspec": {
   "display_name": "Python 3 (ipykernel)",
   "language": "python",
   "name": "python3"
  },
  "language_info": {
   "codemirror_mode": {
    "name": "ipython",
    "version": 3
   },
   "file_extension": ".py",
   "mimetype": "text/x-python",
   "name": "python",
   "nbconvert_exporter": "python",
   "pygments_lexer": "ipython3",
   "version": "3.8.10"
  }
 },
 "nbformat": 4,
 "nbformat_minor": 5
}
